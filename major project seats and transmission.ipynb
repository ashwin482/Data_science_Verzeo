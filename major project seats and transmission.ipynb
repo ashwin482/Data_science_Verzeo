{
 "cells": [
  {
   "cell_type": "code",
   "execution_count": null,
   "metadata": {},
   "outputs": [],
   "source": [
    "# import pandas as pd \n",
    "import pandas as pd\n",
    "df = pd.read_excel (r\"C:\\Users\\DLRL\\Downloads\\Data_Train.xlsx\")\n"
   ]
  },
  {
   "cell_type": "code",
   "execution_count": null,
   "metadata": {},
   "outputs": [],
   "source": [
    "df1=df[['Transmission','Price']] \n",
    "\n",
    "df11=df1.loc[df1['Transmission']=='Manual']\n",
    "df111=df11.describe(include='all')\n",
    "df111.rename(columns={'Price':'price_manual','Transmission':'manual'},inplace=True)\n",
    "\n",
    "df12=df1.loc[df1['Transmission']=='Automatic']\n",
    "df121=df12.describe(include='all')\n",
    "df121.rename(columns={'Price':'price_automatic','Transmission':'automatic'},inplace=True)\n",
    "\n",
    "df1111=df111.join(df121)\n",
    "\n",
    "df1112=df1111[['price_manual','price_automatic']]\n",
    "df1113=df1112.transpose()\n",
    "\n",
    "df4=df1113[['count','mean','std','min','25%','50%','75%','max']]\n",
    "print(df4)\n",
    "\n",
    "quantity=['count','mean_price','standard_deviation_price','minimum_price','25%percentile_price','50%percentile_price','75%percentile_price','maximum_price']\n",
    "num=[0,1,2,3,4,5,6]\n",
    "for i in num:\n",
    " df5 = pd.DataFrame({'transmission':['manual', 'automatic'], quantity[i]:df4.iloc[:,i]})\n",
    " ax = df5.plot.bar(x='transmission', y=quantity[i], rot=0)"
   ]
  },
  {
   "cell_type": "code",
   "execution_count": null,
   "metadata": {},
   "outputs": [],
   "source": [
    "df1=df[['Seats','Price']] \n",
    "list=[0,1,2,3,4,5,6,7,8,9]\n",
    "x=[]\n",
    "for i in list:\n",
    " df2=df1.loc[df1['Seats']==i]\n",
    " df3=df2.describe(include='all')\n",
    " df4=df3[['Price']]\n",
    " df4.rename(columns={'Price':i},inplace=True)\n",
    " x.append(df12)\n",
    "\n",
    "t = pd.concat(x, axis=1)\n",
    "final=t.transpose()\n",
    "print(final)\n",
    "\n",
    "quantity=['count','mean_price','standard_deviation_price','minimum_price','25%percentile_price','50%percentile_price','75%percentile_price','maximum_price']\n",
    "num=[0,1,2,3,4,5,6]\n",
    "for i in num:\n",
    "  df5 = pd.DataFrame({'Seats':list , quantity[i]:final.iloc[:,i]})\n",
    "  ax = df5.plot.bar(x='Seats', y=quantity[i], rot=0)\n",
    "\n"
   ]
  }
 ],
 "metadata": {
  "kernelspec": {
   "display_name": "Python 3",
   "language": "python",
   "name": "python3"
  },
  "language_info": {
   "codemirror_mode": {
    "name": "ipython",
    "version": 3
   },
   "file_extension": ".py",
   "mimetype": "text/x-python",
   "name": "python",
   "nbconvert_exporter": "python",
   "pygments_lexer": "ipython3",
   "version": "3.7.6"
  }
 },
 "nbformat": 4,
 "nbformat_minor": 4
}
