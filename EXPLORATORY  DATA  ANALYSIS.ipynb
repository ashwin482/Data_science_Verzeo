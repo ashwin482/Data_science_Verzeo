{
 "cells": [
  {
   "cell_type": "markdown",
   "metadata": {},
   "source": [
    "# EXPLORATORY  DATA   ANALYSIS:"
   ]
  },
  {
   "cell_type": "code",
   "execution_count": 132,
   "metadata": {},
   "outputs": [],
   "source": [
    "#Importing numerical libraries\n",
    "import numpy as np \n",
    "\n",
    "#Importing dataframe libraries pandas \n",
    "import pandas as pd\n",
    "\n",
    "#Importing ploting libraries for plot\n",
    "import matplotlib.pyplot as plt   \n",
    "\n",
    "#Importing seaborn for statistical plots\n",
    "import seaborn as sns\n",
    "\n",
    "#Importing seaborn for statistical libraries\n",
    "import scipy.stats as st\n",
    "import statsmodels.formula.api as smf\n",
    "\n",
    "#To enable plotting graphs in Jupyter notebook\n",
    "%matplotlib inline \n",
    "\n",
    "#To Remove warnings in jupyter notebook\n",
    "import warnings\n",
    "warnings.filterwarnings('ignore')\n",
    "\n",
    "#Importing accuracy measures and confusion matrix\n",
    "from sklearn import metrics\n",
    "import statsmodels.formula.api as smf\n",
    "from sklearn.metrics import roc_curve, auc\n",
    "\n",
    "#Importing sklearn package's splitting data for train and test data\n",
    "from sklearn.model_selection import train_test_split\n",
    "\n",
    "import os"
   ]
  },
  {
   "cell_type": "code",
   "execution_count": 133,
   "metadata": {},
   "outputs": [
    {
     "data": {
      "text/plain": [
       "'C:\\\\Users\\\\aansh\\\\Desktop'"
      ]
     },
     "execution_count": 133,
     "metadata": {},
     "output_type": "execute_result"
    }
   ],
   "source": [
    "pwd"
   ]
  },
  {
   "cell_type": "code",
   "execution_count": 134,
   "metadata": {},
   "outputs": [
    {
     "data": {
      "text/html": [
       "<div>\n",
       "<style scoped>\n",
       "    .dataframe tbody tr th:only-of-type {\n",
       "        vertical-align: middle;\n",
       "    }\n",
       "\n",
       "    .dataframe tbody tr th {\n",
       "        vertical-align: top;\n",
       "    }\n",
       "\n",
       "    .dataframe thead th {\n",
       "        text-align: right;\n",
       "    }\n",
       "</style>\n",
       "<table border=\"1\" class=\"dataframe\">\n",
       "  <thead>\n",
       "    <tr style=\"text-align: right;\">\n",
       "      <th></th>\n",
       "      <th>Name</th>\n",
       "      <th>Location</th>\n",
       "      <th>Year</th>\n",
       "      <th>Kilometers_Driven</th>\n",
       "      <th>Fuel_Type</th>\n",
       "      <th>Transmission</th>\n",
       "      <th>Owner_Type</th>\n",
       "      <th>Mileage(kmpl)</th>\n",
       "      <th>Engine(CC)</th>\n",
       "      <th>Power(bhp)</th>\n",
       "      <th>Seats</th>\n",
       "      <th>Price</th>\n",
       "    </tr>\n",
       "  </thead>\n",
       "  <tbody>\n",
       "    <tr>\n",
       "      <th>0</th>\n",
       "      <td>Maruti Wagon R LXI CNG</td>\n",
       "      <td>Mumbai</td>\n",
       "      <td>2010</td>\n",
       "      <td>72000</td>\n",
       "      <td>CNG</td>\n",
       "      <td>Manual</td>\n",
       "      <td>First</td>\n",
       "      <td>26.60</td>\n",
       "      <td>998</td>\n",
       "      <td>58.16</td>\n",
       "      <td>5</td>\n",
       "      <td>1.75</td>\n",
       "    </tr>\n",
       "    <tr>\n",
       "      <th>1</th>\n",
       "      <td>Hyundai Creta 1.6 CRDi SX Option</td>\n",
       "      <td>Pune</td>\n",
       "      <td>2015</td>\n",
       "      <td>41000</td>\n",
       "      <td>Diesel</td>\n",
       "      <td>Manual</td>\n",
       "      <td>First</td>\n",
       "      <td>19.67</td>\n",
       "      <td>1582</td>\n",
       "      <td>126.20</td>\n",
       "      <td>5</td>\n",
       "      <td>12.50</td>\n",
       "    </tr>\n",
       "    <tr>\n",
       "      <th>2</th>\n",
       "      <td>Honda Jazz V</td>\n",
       "      <td>Chennai</td>\n",
       "      <td>2011</td>\n",
       "      <td>46000</td>\n",
       "      <td>Petrol</td>\n",
       "      <td>Manual</td>\n",
       "      <td>First</td>\n",
       "      <td>18.20</td>\n",
       "      <td>1199</td>\n",
       "      <td>88.70</td>\n",
       "      <td>5</td>\n",
       "      <td>4.50</td>\n",
       "    </tr>\n",
       "    <tr>\n",
       "      <th>3</th>\n",
       "      <td>Maruti Ertiga VDI</td>\n",
       "      <td>Chennai</td>\n",
       "      <td>2012</td>\n",
       "      <td>87000</td>\n",
       "      <td>Diesel</td>\n",
       "      <td>Manual</td>\n",
       "      <td>First</td>\n",
       "      <td>20.77</td>\n",
       "      <td>1248</td>\n",
       "      <td>88.76</td>\n",
       "      <td>7</td>\n",
       "      <td>6.00</td>\n",
       "    </tr>\n",
       "    <tr>\n",
       "      <th>4</th>\n",
       "      <td>Audi A4 New 2.0 TDI Multitronic</td>\n",
       "      <td>Coimbatore</td>\n",
       "      <td>2013</td>\n",
       "      <td>40670</td>\n",
       "      <td>Diesel</td>\n",
       "      <td>Automatic</td>\n",
       "      <td>Second</td>\n",
       "      <td>15.20</td>\n",
       "      <td>1968</td>\n",
       "      <td>140.80</td>\n",
       "      <td>5</td>\n",
       "      <td>17.74</td>\n",
       "    </tr>\n",
       "  </tbody>\n",
       "</table>\n",
       "</div>"
      ],
      "text/plain": [
       "                               Name    Location  Year  Kilometers_Driven  \\\n",
       "0            Maruti Wagon R LXI CNG      Mumbai  2010              72000   \n",
       "1  Hyundai Creta 1.6 CRDi SX Option        Pune  2015              41000   \n",
       "2                      Honda Jazz V     Chennai  2011              46000   \n",
       "3                 Maruti Ertiga VDI     Chennai  2012              87000   \n",
       "4   Audi A4 New 2.0 TDI Multitronic  Coimbatore  2013              40670   \n",
       "\n",
       "  Fuel_Type Transmission Owner_Type  Mileage(kmpl)  Engine(CC)  Power(bhp)  \\\n",
       "0       CNG       Manual      First          26.60         998       58.16   \n",
       "1    Diesel       Manual      First          19.67        1582      126.20   \n",
       "2    Petrol       Manual      First          18.20        1199       88.70   \n",
       "3    Diesel       Manual      First          20.77        1248       88.76   \n",
       "4    Diesel    Automatic     Second          15.20        1968      140.80   \n",
       "\n",
       "   Seats  Price  \n",
       "0      5   1.75  \n",
       "1      5  12.50  \n",
       "2      5   4.50  \n",
       "3      7   6.00  \n",
       "4      5  17.74  "
      ]
     },
     "execution_count": 134,
     "metadata": {},
     "output_type": "execute_result"
    }
   ],
   "source": [
    "train= pd.read_excel(r\"C:\\Users\\aansh\\Desktop\\Data_Train(clean).xlsx\")\n",
    "train.head()"
   ]
  },
  {
   "cell_type": "code",
   "execution_count": 135,
   "metadata": {},
   "outputs": [
    {
     "data": {
      "text/html": [
       "<div>\n",
       "<style scoped>\n",
       "    .dataframe tbody tr th:only-of-type {\n",
       "        vertical-align: middle;\n",
       "    }\n",
       "\n",
       "    .dataframe tbody tr th {\n",
       "        vertical-align: top;\n",
       "    }\n",
       "\n",
       "    .dataframe thead th {\n",
       "        text-align: right;\n",
       "    }\n",
       "</style>\n",
       "<table border=\"1\" class=\"dataframe\">\n",
       "  <thead>\n",
       "    <tr style=\"text-align: right;\">\n",
       "      <th></th>\n",
       "      <th>Name</th>\n",
       "      <th>Location</th>\n",
       "      <th>Year</th>\n",
       "      <th>Kilometers_Driven</th>\n",
       "      <th>Fuel_Type</th>\n",
       "      <th>Transmission</th>\n",
       "      <th>Owner_Type</th>\n",
       "      <th>Mileage(kmpl)</th>\n",
       "      <th>Engine(CC)</th>\n",
       "      <th>Power(bhp)</th>\n",
       "      <th>Seats</th>\n",
       "    </tr>\n",
       "  </thead>\n",
       "  <tbody>\n",
       "    <tr>\n",
       "      <th>0</th>\n",
       "      <td>Maruti Alto K10 LXI CNG</td>\n",
       "      <td>Delhi</td>\n",
       "      <td>2014</td>\n",
       "      <td>40929</td>\n",
       "      <td>CNG</td>\n",
       "      <td>Manual</td>\n",
       "      <td>First</td>\n",
       "      <td>32.26</td>\n",
       "      <td>998</td>\n",
       "      <td>58.20</td>\n",
       "      <td>4</td>\n",
       "    </tr>\n",
       "    <tr>\n",
       "      <th>1</th>\n",
       "      <td>Maruti Alto 800 2016-2019 LXI</td>\n",
       "      <td>Coimbatore</td>\n",
       "      <td>2013</td>\n",
       "      <td>54493</td>\n",
       "      <td>Petrol</td>\n",
       "      <td>Manual</td>\n",
       "      <td>Second</td>\n",
       "      <td>24.70</td>\n",
       "      <td>796</td>\n",
       "      <td>47.30</td>\n",
       "      <td>5</td>\n",
       "    </tr>\n",
       "    <tr>\n",
       "      <th>2</th>\n",
       "      <td>Toyota Innova Crysta Touring Sport 2.4 MT</td>\n",
       "      <td>Mumbai</td>\n",
       "      <td>2017</td>\n",
       "      <td>34000</td>\n",
       "      <td>Diesel</td>\n",
       "      <td>Manual</td>\n",
       "      <td>First</td>\n",
       "      <td>13.68</td>\n",
       "      <td>2393</td>\n",
       "      <td>147.80</td>\n",
       "      <td>7</td>\n",
       "    </tr>\n",
       "    <tr>\n",
       "      <th>3</th>\n",
       "      <td>Hyundai i20 Magna</td>\n",
       "      <td>Mumbai</td>\n",
       "      <td>2014</td>\n",
       "      <td>29000</td>\n",
       "      <td>Petrol</td>\n",
       "      <td>Manual</td>\n",
       "      <td>First</td>\n",
       "      <td>18.50</td>\n",
       "      <td>1197</td>\n",
       "      <td>82.85</td>\n",
       "      <td>5</td>\n",
       "    </tr>\n",
       "    <tr>\n",
       "      <th>4</th>\n",
       "      <td>Mahindra XUV500 W8 2WD</td>\n",
       "      <td>Coimbatore</td>\n",
       "      <td>2016</td>\n",
       "      <td>85609</td>\n",
       "      <td>Diesel</td>\n",
       "      <td>Manual</td>\n",
       "      <td>Second</td>\n",
       "      <td>16.00</td>\n",
       "      <td>2179</td>\n",
       "      <td>140.00</td>\n",
       "      <td>7</td>\n",
       "    </tr>\n",
       "  </tbody>\n",
       "</table>\n",
       "</div>"
      ],
      "text/plain": [
       "                                        Name    Location  Year  \\\n",
       "0                    Maruti Alto K10 LXI CNG       Delhi  2014   \n",
       "1              Maruti Alto 800 2016-2019 LXI  Coimbatore  2013   \n",
       "2  Toyota Innova Crysta Touring Sport 2.4 MT      Mumbai  2017   \n",
       "3                          Hyundai i20 Magna      Mumbai  2014   \n",
       "4                     Mahindra XUV500 W8 2WD  Coimbatore  2016   \n",
       "\n",
       "   Kilometers_Driven Fuel_Type Transmission Owner_Type  Mileage(kmpl)  \\\n",
       "0              40929       CNG       Manual      First          32.26   \n",
       "1              54493    Petrol       Manual     Second          24.70   \n",
       "2              34000    Diesel       Manual      First          13.68   \n",
       "3              29000    Petrol       Manual      First          18.50   \n",
       "4              85609    Diesel       Manual     Second          16.00   \n",
       "\n",
       "   Engine(CC)  Power(bhp)  Seats  \n",
       "0         998       58.20      4  \n",
       "1         796       47.30      5  \n",
       "2        2393      147.80      7  \n",
       "3        1197       82.85      5  \n",
       "4        2179      140.00      7  "
      ]
     },
     "execution_count": 135,
     "metadata": {},
     "output_type": "execute_result"
    }
   ],
   "source": [
    "test = pd.read_excel(r\"C:\\Users\\aansh\\Desktop\\Data_Test(clean).xlsx\")\n",
    "test.head()"
   ]
  },
  {
   "cell_type": "code",
   "execution_count": 136,
   "metadata": {},
   "outputs": [
    {
     "data": {
      "text/plain": [
       "array(['Mumbai', 'Pune', 'Chennai', 'Coimbatore', 'Hyderabad', 'Jaipur',\n",
       "       'Kochi', 'Kolkata', 'Delhi', 'Bangalore', 'Ahmedabad'],\n",
       "      dtype=object)"
      ]
     },
     "execution_count": 136,
     "metadata": {},
     "output_type": "execute_result"
    }
   ],
   "source": [
    "train.Location.unique()"
   ]
  },
  {
   "cell_type": "code",
   "execution_count": 137,
   "metadata": {},
   "outputs": [
    {
     "data": {
      "text/plain": [
       "array(['Maruti Wagon R LXI CNG', 'Hyundai Creta 1.6 CRDi SX Option',\n",
       "       'Honda Jazz V', ..., 'Volkswagen Polo IPL II 1.2 Petrol Highline',\n",
       "       'Tata Bolt Revotron XT', 'Mahindra Xylo D4 BSIV'], dtype=object)"
      ]
     },
     "execution_count": 137,
     "metadata": {},
     "output_type": "execute_result"
    }
   ],
   "source": [
    "train.Name.unique()"
   ]
  },
  {
   "cell_type": "code",
   "execution_count": null,
   "metadata": {},
   "outputs": [],
   "source": []
  },
  {
   "cell_type": "code",
   "execution_count": 138,
   "metadata": {},
   "outputs": [
    {
     "data": {
      "text/plain": [
       "array(['CNG', 'Diesel', 'Petrol', 'LPG'], dtype=object)"
      ]
     },
     "execution_count": 138,
     "metadata": {},
     "output_type": "execute_result"
    }
   ],
   "source": [
    "train.Fuel_Type.unique()"
   ]
  },
  {
   "cell_type": "code",
   "execution_count": 139,
   "metadata": {},
   "outputs": [
    {
     "data": {
      "text/plain": [
       "array(['Manual', 'Automatic'], dtype=object)"
      ]
     },
     "execution_count": 139,
     "metadata": {},
     "output_type": "execute_result"
    }
   ],
   "source": [
    "train.Transmission.unique()"
   ]
  },
  {
   "cell_type": "code",
   "execution_count": 140,
   "metadata": {},
   "outputs": [
    {
     "data": {
      "text/plain": [
       "array(['First', 'Second', 'Fourth & Above', 'Third'], dtype=object)"
      ]
     },
     "execution_count": 140,
     "metadata": {},
     "output_type": "execute_result"
    }
   ],
   "source": [
    "train.Owner_Type.unique()"
   ]
  },
  {
   "cell_type": "code",
   "execution_count": 141,
   "metadata": {},
   "outputs": [
    {
     "data": {
      "text/plain": [
       "array([ 5,  7,  8,  4,  6,  2, 10,  9], dtype=int64)"
      ]
     },
     "execution_count": 141,
     "metadata": {},
     "output_type": "execute_result"
    }
   ],
   "source": [
    "train.Seats.unique()"
   ]
  },
  {
   "cell_type": "code",
   "execution_count": 142,
   "metadata": {},
   "outputs": [
    {
     "data": {
      "text/plain": [
       "array(['Delhi', 'Coimbatore', 'Mumbai', 'Pune', 'Jaipur', 'Chennai',\n",
       "       'Hyderabad', 'Kochi', 'Bangalore', 'Kolkata', 'Ahmedabad'],\n",
       "      dtype=object)"
      ]
     },
     "execution_count": 142,
     "metadata": {},
     "output_type": "execute_result"
    }
   ],
   "source": [
    "test.Location.unique()"
   ]
  },
  {
   "cell_type": "code",
   "execution_count": 143,
   "metadata": {},
   "outputs": [
    {
     "data": {
      "text/plain": [
       "array(['Maruti Alto K10 LXI CNG', 'Maruti Alto 800 2016-2019 LXI',\n",
       "       'Toyota Innova Crysta Touring Sport 2.4 MT', 'Hyundai i20 Magna',\n",
       "       'Mahindra XUV500 W8 2WD', 'Toyota Fortuner 4x2 AT TRD Sportivo',\n",
       "       'Hyundai EON Era Plus', 'Honda City 1.5 S MT',\n",
       "       'Mahindra XUV500 W6 2WD', 'Audi Q5 2008-2012 2.0 TDI',\n",
       "       'Hyundai Grand i10 Magna', 'Toyota Corolla H5',\n",
       "       'Maruti Swift Vdi BSIII', 'Nissan Terrano XL', 'BMW X1 sDrive20d',\n",
       "       'BMW 3 Series GT 320d Luxury Line', 'Ford Ikon 1.4 TDCi DuraTorq',\n",
       "       'Maruti Swift AMT ZXI', 'Maruti Swift Dzire VXi',\n",
       "       'Maruti Ritz LDi', 'Nissan Micra XV',\n",
       "       'Honda Civic 2010-2013 1.8 S MT Inspire', 'Ford Ikon 1.3 Flair',\n",
       "       'Maruti Alto LX', 'Honda Jazz 1.5 V i DTEC',\n",
       "       'Skoda Rapid 1.5 TDI AT Ambition', 'Hyundai i20 1.2 Sportz',\n",
       "       'Toyota Etios Cross 1.4L VD', 'Volkswagen Polo GT TDI',\n",
       "       'Hyundai i10 Era 1.1 iTech SE', 'Mitsubishi Pajero 2.8 SFX',\n",
       "       'Maruti Swift Dzire Tour LDI', 'Maruti Swift Dzire VXI',\n",
       "       'Skoda Rapid 1.6 MPI AT Style',\n",
       "       'Hyundai Creta 1.6 SX Plus Dual Tone Petrol',\n",
       "       'Toyota Innova 2.5 G (Diesel) 7 Seater BS IV',\n",
       "       'BMW 5 Series 520d Luxury Line', 'Maruti Baleno Alpha 1.3',\n",
       "       'Audi A4 2.0 TDI 177 Bhp Technology Edition',\n",
       "       'Audi A4 2.0 TDI Multitronic', 'Skoda Rapid 1.6 MPI Ambition',\n",
       "       'Maruti Ertiga SHVS VDI', 'Maruti Ciaz 1.4 Zeta',\n",
       "       'Maruti Ciaz ZXi', 'Mercedes-Benz A Class A200 CDI Sport',\n",
       "       'Toyota Innova 2.5 ZX Diesel 7 Seater',\n",
       "       'BMW 3 Series 320d Prestige', 'Ford Ecosport 1.5 DV5 MT Titanium',\n",
       "       'Ford Endeavour 3.0L 4X4 AT', 'Audi Q5 2.0 TDI',\n",
       "       'Hyundai Verna 1.6 SX VTVT', 'Mahindra XUV500 W8 4WD',\n",
       "       'Maruti Vitara Brezza ZDi', 'Toyota Etios Liva 1.4 VXD',\n",
       "       'Tata Indigo CS LX (TDI) BS III', 'Honda City ZX GXi',\n",
       "       'Toyota Corolla Altis G', 'Hyundai Grand i10 Asta',\n",
       "       'Hyundai i20 Sportz 1.2', 'Volkswagen Polo 1.5 TDI Comfortline',\n",
       "       'Maruti Celerio X VXI Option', 'Chevrolet Sail Hatchback 1.2',\n",
       "       'Mahindra Scorpio VLX Special Edition BS-IV',\n",
       "       'Volkswagen Ameo 1.5 TDI Comfortline', 'Maruti Wagon R LXI',\n",
       "       'Honda Brio S Option MT', 'Maruti Ertiga VXI',\n",
       "       'Hyundai Santro Xing GL', 'Ford Figo Aspire 1.2 Ti-VCT Titanium',\n",
       "       'Tata Tiago AMT 1.2 Revotron XTA', 'Chevrolet Beat LT',\n",
       "       'Nissan Micra Diesel XV', 'Toyota Innova 2.5 GX (Diesel) 8 Seater',\n",
       "       'Hyundai Xcent 1.2 VTVT E', 'Maruti Ciaz VXi',\n",
       "       'BMW 5 Series 2013-2017 520d Luxury Line',\n",
       "       'Toyota Camry Hybrid 2.5', 'Toyota Corolla Altis D-4D G',\n",
       "       'Hyundai Verna 1.6 SX CRDi (O)',\n",
       "       'Volkswagen Vento 1.5 TDI Highline AT', 'Nissan Teana XL',\n",
       "       'Hyundai i20 1.2 Sportz Option',\n",
       "       'Tata Manza Club Class Safire90 LX', 'Ford Figo Diesel ZXI',\n",
       "       'Hyundai i20 Asta 1.2', 'Ford Fiesta Classic 1.6 SXI Duratec',\n",
       "       'Mercedes-Benz B Class B180 Sports', 'Maruti Swift Dzire VDI',\n",
       "       'Hyundai Santro Xing GLS', 'Maruti Baleno Alpha',\n",
       "       'Honda Accord 2.4 Elegance M/T', 'Nissan Micra XL CVT',\n",
       "       'Maruti Zen Estilo LXI BS IV', 'Hyundai Elantra CRDi SX',\n",
       "       'Tata Indica V2 DiCOR DLG BS-III', 'Tata Nano Lx',\n",
       "       'Honda Amaze S i-Dtech', 'Volkswagen Polo Diesel Highline 1.2L',\n",
       "       'Tata Indica Vista Quadrajet LX', 'Audi Q3 30 TDI S Edition',\n",
       "       'Honda City i DTEC SV', 'Honda Amaze SX i-DTEC',\n",
       "       'Hyundai i20 Asta Option 1.2', 'Honda Brio S MT',\n",
       "       'Mercedes-Benz New C-Class C 250 CDI Avantgarde',\n",
       "       'Volkswagen Polo 1.2 MPI Highline', 'Hyundai i10 Magna AT',\n",
       "       'Hyundai i20 1.2 Magna Executive', 'BMW 5 Series 525d Sedan',\n",
       "       'Maruti Swift Dzire Vdi BSIV', 'Honda BRV i-DTEC V MT',\n",
       "       'Maruti Swift Dzire VDI Optional', 'BMW X3 xDrive20d',\n",
       "       'Chevrolet Beat Diesel LS', 'Audi Q3 30 TDI Premium FWD',\n",
       "       'Mercedes-Benz GL-Class 2007 2012 350 CDI Luxury',\n",
       "       'BMW 3 Series GT 320d Sport Line', 'Hyundai Grand i10 Asta Option',\n",
       "       'Toyota Etios Liva VD', 'Datsun GO T Petrol',\n",
       "       'Maruti Ignis 1.2 Alpha', 'Maruti A-Star Zxi',\n",
       "       'Honda Civic 2010-2013 1.8 V AT Sunroof', 'Maruti Alto 800 LXI',\n",
       "       'Jaguar XE 2.0L Diesel Prestige', 'Hyundai i20 1.4 CRDi Sportz',\n",
       "       'Ford EcoSport 1.0 Ecoboost Titanium Plus',\n",
       "       'Mahindra KUV 100 mFALCON G80 K4 5str',\n",
       "       'Maruti Vitara Brezza VDi Option',\n",
       "       'Volkswagen Vento Diesel Highline', 'Fiat Avventura FIRE Dynamic',\n",
       "       'Honda Civic 2006-2010 1.8 V MT', 'Honda CR-V Diesel',\n",
       "       'Hyundai i10 Magna', 'Volkswagen Ameo 1.5 TDI Highline AT',\n",
       "       'Hyundai Accent CRDi',\n",
       "       'Ford Ecosport 1.5 DV5 MT Titanium Optional',\n",
       "       'Jaguar XF 2.2 Litre Luxury', 'Maruti Baleno Alpha 1.2',\n",
       "       'Hyundai Grand i10 CRDi Magna', 'Hyundai EON Era',\n",
       "       'Mercedes-Benz E-Class 2015-2017 E250 Edition E',\n",
       "       'Mercedes-Benz M-Class ML 350 4Matic',\n",
       "       'Ford EcoSport 1.5 Diesel Titanium', 'Maruti Celerio VXI AT',\n",
       "       'Mahindra Xylo E9', 'Hyundai Creta 1.6 SX Automatic',\n",
       "       'Honda Mobilio V i VTEC',\n",
       "       'Mercedes-Benz GL-Class 350 CDI Blue Efficiency',\n",
       "       'Mercedes-Benz S Class 2005 2013 S 350 L',\n",
       "       'Volkswagen Vento 1.5 TDI Highline',\n",
       "       'Mercedes-Benz E-Class E250 CDI Avantgrade', 'Toyota Etios V',\n",
       "       'Tata Indica Vista Aqua TDI BSIII', 'Volkswagen Passat 1.8 TSI MT',\n",
       "       'Maruti Alto LXi', 'Skoda Laura 1.9 TDI MT Elegance',\n",
       "       'Maruti Wagon R LX', 'Nissan Sunny 2011-2014 Diesel XV',\n",
       "       'Honda Brio VX', 'Hyundai i10 Sportz',\n",
       "       'Mercedes-Benz M-Class ML 250 CDI',\n",
       "       'Volkswagen Vento Petrol Comfortline', 'Honda Mobilio S i DTEC',\n",
       "       'Maruti Alto LXI', 'Honda City ZX VTEC Plus',\n",
       "       'Audi A8 L 3.0 TDI quattro', 'Maruti Swift Dzire VDi',\n",
       "       'Hyundai Verna CRDi ABS', 'Tata Nano XT',\n",
       "       'BMW 7 Series 730Ld DPE Signature', 'Honda Brio 1.2 S MT',\n",
       "       'Renault Duster 110PS Diesel RxZ', 'Maruti Dzire ZDI',\n",
       "       'Honda City i VTEC V', 'Jaguar XF Diesel',\n",
       "       'BMW 3 Series 320d Luxury Line', 'BMW 3 Series Luxury Line',\n",
       "       'Mercedes-Benz New C-Class C 220d Avantgarde Edition C',\n",
       "       'Maruti Omni E 8 Str STD', 'Volkswagen Vento Petrol Highline',\n",
       "       'Audi A6 2011-2015 2.0 TDI Premium Plus', 'Fiat Linea Dynamic',\n",
       "       'Hyundai Verna 1.6 SX', 'Hyundai i20 Active 1.2 S',\n",
       "       'Honda Brio V MT', 'Honda Mobilio RS Option i DTEC',\n",
       "       'Mitsubishi Pajero Sport 4X4',\n",
       "       'Tata Manza Club Class Quadrajet90 LS',\n",
       "       'Renault Duster Adventure Edition',\n",
       "       'Hyundai Verna CRDi 1.6 AT SX Plus', 'Maruti Ritz VDi',\n",
       "       'Toyota Innova 2.5 V Diesel 8-seater',\n",
       "       'Tata Sumo EX 10/7 Str BSII',\n",
       "       'Audi Q3 35 TDI Quattro Premium Plus',\n",
       "       'Fiat Grande Punto 1.2 Emotion', 'Hyundai Elantra SX',\n",
       "       'Volkswagen Polo Diesel Trendline 1.2L',\n",
       "       'Toyota Etios Cross 1.2L G', 'Mahindra Scorpio S4 7 Seater',\n",
       "       'Maruti Ciaz VXi Plus', 'Ford Figo Petrol Titanium',\n",
       "       'Mini Cooper S', 'Hyundai Creta 1.6 CRDi SX',\n",
       "       'Mahindra Thar CRDe AC', 'Hyundai i10 Sportz 1.1L',\n",
       "       'Maruti Wagon R LXI DUO BSIII', 'Maruti Baleno Delta CVT',\n",
       "       'Maruti Alto LX BSIII', 'Hyundai Xcent 1.2 Kappa S Option',\n",
       "       'Toyota Corolla Altis Diesel D4DG',\n",
       "       'Volkswagen Polo Petrol Highline 1.2L', 'Hyundai i10 Era',\n",
       "       'Hyundai Grand i10 1.2 Kappa Sportz',\n",
       "       'Hyundai Verna 1.6 SX VTVT (O) AT', 'Ford Fiesta 1.4 SXi TDCi ABS',\n",
       "       'Tata Xenon XT EX 4X2', 'Maruti Alto K10 2010-2014 VXI',\n",
       "       'Audi A6 2011-2015 35 TDI Premium',\n",
       "       'Renault Duster 85PS Diesel RxL Optional', 'Mahindra Thar 4X4',\n",
       "       'Toyota Innova 2.5 GX (Diesel) 7 Seater', 'Chevrolet Aveo 1.6 LT',\n",
       "       'Jaguar XE Portfolio', 'Chevrolet Aveo U-VA 1.2 LS',\n",
       "       'Maruti Swift VDI BSIV',\n",
       "       'Mercedes-Benz E-Class 2009-2013 E250 CDI Avantgarde',\n",
       "       'Hyundai Accent GLE 1', 'Audi A4 New 2.0 TDI Multitronic',\n",
       "       'Chevrolet Tavera LS B3 10 Seats BSIII',\n",
       "       'Mahindra Xylo E8 ABS BS IV', 'Hyundai i20 Active SX Diesel',\n",
       "       'Mercedes-Benz New C-Class 220 CDI AT',\n",
       "       'Skoda Superb Elegance 1.8 TSI AT', 'Skoda Rapid 1.5 TDI Elegance',\n",
       "       'Mercedes-Benz E-Class 2009-2013 E200 CGI Blue Efficiency',\n",
       "       'Maruti 800 AC', 'Maruti Swift LDI', 'Honda BR-V i-DTEC S MT',\n",
       "       'Audi A6 2011-2015 2.0 TDI Technology',\n",
       "       'Toyota Fortuner 3.0 Diesel', 'Toyota Camry MT with Moonroof',\n",
       "       'Maruti Ignis 1.2 Delta', 'Hyundai Verna 1.6 VTVT S',\n",
       "       'Honda City V MT', 'Honda City 1.5 E MT',\n",
       "       'Mahindra Verito 1.5 D4 BSIV', 'Hyundai EON D Lite Plus',\n",
       "       'Toyota Innova 2.5 G (Diesel) 8 Seater', 'Maruti Ertiga VDI',\n",
       "       'Audi Q7 3.0 TDI Quattro Premium Plus', 'Maruti Alto K10 LXI',\n",
       "       'Tata Indica V2 eLX',\n",
       "       'Mercedes-Benz New C-Class C 220 CDI Avantgarde',\n",
       "       'Honda City 1.5 V MT', 'Toyota Innova 2.5 VX (Diesel) 7 Seater',\n",
       "       'Hyundai i20 1.2 Magna',\n",
       "       'Mercedes-Benz E-Class 2009-2013 E250 CDI Blue Efficiency',\n",
       "       'Honda Accord VTi-L (AT)', 'Toyota Innova Crysta 2.4 ZX MT',\n",
       "       'Hyundai i20 Asta Option 1.4 CRDi',\n",
       "       'Mahindra Verito Vibe 1.5 dCi D6', 'Maruti Eeco 5 Seater AC',\n",
       "       'Toyota Corolla Altis 1.8 G', 'Toyota Corolla Altis VL AT',\n",
       "       'Mercedes-Benz A Class A180 Sport', 'Hyundai i20 Asta 1.4 CRDi',\n",
       "       'Honda Accord 2.4 M/T', 'Honda Accord 2.4 AT',\n",
       "       'Mahindra Bolero SLE BSIII', 'Honda Amaze S i-Vtech',\n",
       "       'Volkswagen Jetta 2007-2011 1.6 Trendline', 'Ford Figo Petrol ZXI',\n",
       "       'Toyota Innova 2.5 G (Diesel) 7 Seater',\n",
       "       'Hyundai Elite i20 Asta Option', 'Mahindra KUV 100 mFALCON D75 K2',\n",
       "       'Bentley Flying Spur W12', 'Toyota Fortuner 2.8 2WD MT',\n",
       "       'Tata Indica V2 DLS BSIII', 'Nissan Micra Active XV',\n",
       "       'Hyundai Grand i10 Sportz', 'Tata Tigor 1.2 Revotron XZ Option',\n",
       "       'Honda Accord 2001-2003 2.3 VTI L MT', 'Mahindra Xylo E4',\n",
       "       'Land Rover Freelander 2 S Business Edition',\n",
       "       'Tata Indigo eCS eLX BS IV', 'Fiat Linea Emotion (Diesel)',\n",
       "       'Tata Tiago 1.2 Revotron XZ',\n",
       "       'Volkswagen Polo Diesel Comfortline 1.2L',\n",
       "       'Maruti Wagon R VXI BS IV', 'Hyundai Creta 1.6 CRDi AT SX Plus',\n",
       "       'Audi A4 35 TDI Technology', 'BMW X1 xDrive 20d xLine',\n",
       "       'Ford Endeavour 3.0L AT 4x2', 'Maruti Vitara Brezza LDi',\n",
       "       'Mercedes-Benz New C-Class 200 K AT',\n",
       "       'Volvo XC90 2007-2015 D5 AWD', 'Hyundai Santro Xing GLS CNG',\n",
       "       'BMW X6 xDrive30d', 'Tata Indigo CS eVX',\n",
       "       'Audi Q5 30 TDI quattro Premium Plus', 'Hyundai i10 Sportz 1.2',\n",
       "       'Maruti Baleno Delta 1.2', 'Maruti Swift VDI',\n",
       "       'Toyota Land Cruiser Prado VX L',\n",
       "       'Hyundai Tucson 2.0 e-VGT 4WD AT GLS', 'Maruti Baleno Delta',\n",
       "       'Audi A4 2.0 TDI', 'Maruti Dzire AMT ZXI Plus',\n",
       "       'Toyota Innova 2.5 GX 8 STR', 'Maruti Wagon R VXI AMT Opt',\n",
       "       'Skoda Laura L and K MT', 'Maruti Swift LXI Option',\n",
       "       'Maruti Omni MPI CARGO BSIV', 'Honda Amaze S AT i-Vtech',\n",
       "       'Toyota Corolla H2', 'Chevrolet Spark 1.0 LT',\n",
       "       'Audi Q3 2012-2015 2.0 TDI Quattro Premium Plus',\n",
       "       'Chevrolet Cruze LTZ AT', 'Hyundai Xcent 1.2 Kappa AT SX Option',\n",
       "       'Nissan Terrano XV D Pre', 'Ford Ecosport 1.5 DV5 MT Ambiente',\n",
       "       'Land Rover Range Rover HSE', 'Toyota Etios G',\n",
       "       'Volkswagen Polo ALLSTAR 1.2 MPI',\n",
       "       'Toyota Innova 2.5 VX (Diesel) 7 Seater BS IV',\n",
       "       'Hyundai Verna CRDi 1.6 SX Option',\n",
       "       'Land Rover Discovery 4 SDV6 SE', 'Honda City i DTec VX Option BL',\n",
       "       'Nissan Micra XV CVT', 'Maruti Vitara Brezza ZDi Plus Dual Tone',\n",
       "       'Honda Accord 2.4 A/T', 'Mercedes-Benz GLC 220d 4MATIC Sport',\n",
       "       'Mahindra Xylo D4 BSIV', 'Datsun GO Plus T Petrol',\n",
       "       'Maruti SX4 VDI', 'Maruti Celerio VXI',\n",
       "       'Volkswagen Vento 1.5 TDI Comfortline AT',\n",
       "       'Ford EcoSport 1.5 TDCi Titanium', 'Honda Brio VX AT',\n",
       "       'Mitsubishi Pajero Sport 4X2 AT', 'Maruti Swift VDI Optional',\n",
       "       'Hyundai Accent GLE', 'BMW 3 Series 320d Sport',\n",
       "       'Renault KWID Climber 1.0 AMT', 'Mahindra Bolero VLX CRDe',\n",
       "       'Hyundai Creta 1.6 SX Diesel',\n",
       "       'Volkswagen Passat Diesel Highline 2.0 TDI',\n",
       "       'Isuzu MU 7 4x2 HIPACK',\n",
       "       'Mercedes-Benz E-Class 2015-2017 E250 CDI Avantgarde',\n",
       "       'Nissan Sunny 2011-2014 XL', 'Hyundai Elantra GT',\n",
       "       'Honda Accord VTi-L AT', 'Toyota Fortuner 4x4 MT',\n",
       "       'Mini Cooper 3 DOOR D', 'Chevrolet Beat LS',\n",
       "       'Mercedes-Benz B Class B180 Sport',\n",
       "       'Audi Q5 2008-2012 2.0 TFSI Quattro',\n",
       "       'Skoda Laura 1.9 TDI AT Ambiente',\n",
       "       'Hyundai Creta 1.6 CRDi SX Option', 'BMW 7 Series 730Ld',\n",
       "       'Skoda Laura Ambiente 2.0 TDI CR AT', 'Hyundai i20 1.4 CRDi Magna',\n",
       "       'Maruti A-Star AT Vxi Aktiv', 'Hyundai Verna 1.6 VTVT',\n",
       "       'BMW 3 Series 320d', 'Maruti Zen Estilo VXI BSIII',\n",
       "       'Audi Q3 2012-2015 35 TDI Quattro Premium', 'Honda Brio E MT',\n",
       "       'Mahindra Bolero SLX', 'Maruti Celerio ZDi', 'Hyundai Getz GVS',\n",
       "       'Hyundai Xcent 1.2 CRDi SX',\n",
       "       'Ford EcoSport 1.5 Ti VCT AT Titanium',\n",
       "       'BMW 5 Series 530i Sport Line', 'Maruti Wagon R VXI 1.2',\n",
       "       'Chevrolet Optra Magnum 2.0 LT', 'Renault KWID RXL',\n",
       "       'Volkswagen Jetta 2013-2015 2.0L TDI Highline',\n",
       "       'Ford Figo Diesel Titanium', 'Chevrolet Spark 1.0 LS',\n",
       "       'Honda Jazz VX CVT', 'Chevrolet Cruze LTZ',\n",
       "       'Skoda Rapid 1.6 MPI AT Style Plus', 'Maruti Ritz ZXi',\n",
       "       'Honda City 1.5 S AT', 'Tata Indica Vista Aqua 1.2 Safire',\n",
       "       'Skoda Rapid Ultima 1.6 TDI Ambition Plus', 'Maruti SX4 ZXI AT',\n",
       "       'Mahindra Scorpio SLX 2.6 Turbo 8 Str', 'Maruti Baleno Zeta 1.2',\n",
       "       'BMW X3 2.5si', 'Hyundai EON 1.0 Kappa Magna Plus',\n",
       "       'Chevrolet Enjoy 1.3 TCDi LTZ 7', 'Hyundai Verna 1.6 CRDi EX AT',\n",
       "       'Honda BRV i-VTEC V CVT', 'Hyundai i10 Magna 1.2',\n",
       "       'Toyota Innova 2.5 G4 Diesel 8-seater', 'Hyundai Verna 1.4 CX',\n",
       "       'Hyundai i20 Sportz AT 1.4', 'Hyundai Verna 1.6 EX VTVT',\n",
       "       'Hyundai i20 Magna Optional 1.2',\n",
       "       'Toyota Innova 2.5 VX (Diesel) 8 Seater',\n",
       "       'Mahindra KUV 100 D75 K8 5Str', 'Honda City i VTEC CVT VX',\n",
       "       'Maruti Alto K10 VXI', 'Maruti Wagon R VXI Minor',\n",
       "       'Mahindra TUV 300 2015-2019 T8',\n",
       "       'Tata New Safari DICOR 2.2 EX 4x2', 'Audi A6 2011-2015 2.0 TDI',\n",
       "       'Nissan Sunny Diesel XV', 'Toyota Innova 2.5 G4 Diesel 7-seater',\n",
       "       'Renault Duster 110PS Diesel RxL', 'Maruti Dzire VXI',\n",
       "       'Jeep Compass 2.0 Limited Option 4X4',\n",
       "       'Skoda Superb L&K 2.0 TDI AT', 'Mahindra Xylo E8',\n",
       "       'Hyundai EON 1.0 Era Plus', 'Hyundai Elantra 2.0 SX Option AT',\n",
       "       'Toyota Innova 2.0 V', 'Mahindra Xylo H9',\n",
       "       'Hyundai Verna VTVT 1.6 SX', 'Hyundai Verna 1.6 CRDI',\n",
       "       'Nissan Sunny 2011-2014 Diesel XL',\n",
       "       'Chevrolet Sail Hatchback LS ABS', 'Hyundai Santro Xing GL Plus',\n",
       "       'Nissan Sunny 2011-2014 XL AT Special Edition',\n",
       "       'Honda Brio 1.2 VX MT', 'Honda CR-V 2.4 4WD AT',\n",
       "       'Mercedes-Benz New C-Class C 220 CDI Celebration Edition',\n",
       "       'Ford Ecosport 1.0 Ecoboost Titanium', 'Mercedes-Benz GLE 250d',\n",
       "       'Toyota Fortuner 4x4 MT TRD Sportivo',\n",
       "       'Mercedes-Benz CLA 200 D Sport Edition',\n",
       "       'Honda Jazz 1.2 V CVT i VTEC', 'Toyota Fortuner 4x2 AT',\n",
       "       'Mercedes-Benz E-Class 2009-2013 E350 CDI Avantgarde',\n",
       "       'Volkswagen Polo 1.5 TDI Highline', 'Maruti Wagon R LXI BS IV',\n",
       "       'Toyota Innova Crysta 2.8 ZX AT', 'Maruti Ritz VDi ABS',\n",
       "       'Honda Jazz 1.2 VX i VTEC', 'Hyundai Creta 1.4 CRDi S Plus',\n",
       "       'Hyundai Getz GLE', 'Hyundai Xcent 1.2 Kappa SX Option',\n",
       "       'Volvo S60 D5 Kinetic', 'Honda Mobilio V i DTEC',\n",
       "       'Renault Captur 1.5 Diesel RXL', 'Hyundai EON Sportz',\n",
       "       'Maruti A-Star AT VXI', 'Audi A3 35 TDI Attraction',\n",
       "       'BMW 5 Series 2013-2017 530d M Sport',\n",
       "       'Chevrolet Enjoy TCDi LS 7 Seater',\n",
       "       'Mahindra Scorpio S10 8 Seater', 'Hyundai i20 2015-2017 1.2 Magna',\n",
       "       'Renault Pulse RxZ', 'Maruti Swift Dzire ZDI',\n",
       "       'Hyundai EON Magna Plus', 'Nissan Micra XL', 'Maruti Swift VXI',\n",
       "       'Skoda Rapid 1.6 TDI Ambition', 'Honda Jazz 1.5 S i DTEC',\n",
       "       'Volvo XC60 D4 SUMMUM', 'Maruti Ciaz ZDi Plus SHVS',\n",
       "       'Hyundai i20 1.4 CRDi Asta', 'Maruti Omni 5 Seater BSIV',\n",
       "       'Hyundai Verna CRDi SX ABS', 'Maruti Baleno Sigma 1.2',\n",
       "       'BMW X3 xDrive20d Advantage Edition',\n",
       "       'Skoda Superb Style 1.8 TSI AT', 'Renault Duster 85PS Diesel RxL',\n",
       "       'Honda WRV i-DTEC VX', 'Mercedes-Benz E-Class E 220 d',\n",
       "       'Mercedes-Benz S Class 2005 2013 S 350 CDI', 'Hyundai Accent GLX',\n",
       "       'Maruti Swift VXI BSIV', 'Mahindra KUV 100 G80 K4 Plus 5Str',\n",
       "       'Tata Indica Vista Terra 1.2 Safire BS IV',\n",
       "       'Land Rover Discovery Sport TD4 S',\n",
       "       'Volkswagen Vento 1.5 TDI Highline Plus',\n",
       "       'Tata Indica Vista TDI LS', 'Ford Figo Diesel LXI',\n",
       "       'Honda Jazz 1.2 V i VTEC', 'Hyundai Grand i10 1.2 CRDi Magna',\n",
       "       'Skoda Rapid 1.5 TDI Ambition',\n",
       "       'Ford Ecosport 1.5 Ti VCT AT Titanium',\n",
       "       'Hyundai Creta 1.6 SX Automatic Diesel',\n",
       "       'Volkswagen CrossPolo 1.2 TDI', 'Ford Ikon 1.4 ZXi',\n",
       "       'Porsche Cayenne Diesel', 'Honda Amaze E i-Vtech',\n",
       "       'Audi A3 35 TDI Premium Plus',\n",
       "       'Hyundai Verna Transform SX VGT CRDi BS III',\n",
       "       'Ford Ecosport 1.5 DV5 MT Trend', 'Honda Amaze SX i-VTEC',\n",
       "       'Volkswagen Vento 1.5 TDI Highline Plus AT',\n",
       "       'Maruti SX4 S Cross DDiS 200 Zeta', 'Maruti 800 DX',\n",
       "       'Toyota Innova Crysta 2.8 GX AT 8S', 'Maruti Ertiga VXI Petrol',\n",
       "       'Maruti A-Star Vxi',\n",
       "       'Fiat Avventura Urban Cross 1.3 Multijet Emotion',\n",
       "       'Ford Fiesta 1.4 Duratec EXI Limited Edition',\n",
       "       'Hyundai Elantra CRDi SX AT', 'Honda Accord 2.4 Elegance A/T',\n",
       "       'Maruti Wagon R VXI AMT', 'Hyundai i20 1.2 Era',\n",
       "       'Tata Nano Cx BSIV', 'Ford Ecosport 1.5 Ti VCT MT Trend',\n",
       "       'Skoda Octavia Classic 1.9 TDI MT', 'Hyundai i20 Magna 1.2',\n",
       "       'Maruti SX4 Vxi BSIV', 'Maruti Ritz LXi',\n",
       "       'Maruti Alto K10 LXI CNG Optional',\n",
       "       'Hyundai i20 2015-2017 Sportz AT 1.4',\n",
       "       'Toyota Innova Crysta 2.4 G MT 8S', 'Mahindra Quanto C2',\n",
       "       'Skoda Octavia 2.0 TDI MT Style', 'Hyundai Grand i10 AT Asta',\n",
       "       'Hyundai i20 Magna 1.4 CRDi', 'Volvo S80 D5',\n",
       "       'Renault Duster 85PS Diesel RxZ', 'Maruti Swift VXI BSIII',\n",
       "       'Hyundai Creta 1.6 SX Plus Diesel',\n",
       "       'Tata Tiago 1.2 Revotron XT Option', 'Audi A6 35 TDI Matrix',\n",
       "       'Jaguar XF 2.0 Petrol Portfolio', 'Tata Manza Aqua Safire',\n",
       "       'Tata Nano XTA', 'Maruti Wagon R AMT VXI',\n",
       "       'Honda Civic 2010-2013 1.8 V AT', 'BMW 7 Series 2007-2012 730Ld',\n",
       "       'Mahindra XUV500 AT W10 FWD', 'Hyundai Elantra SX AT',\n",
       "       'Honda City i-DTEC SV', 'Volkswagen Polo Petrol Comfortline 1.2L',\n",
       "       'Nissan 370Z AT', 'BMW 6 Series Gran Coupe',\n",
       "       'Hyundai i20 1.4 Sportz', 'Hyundai Sonata Embera 2.0L CRDi MT',\n",
       "       'Audi A6 2011-2015 35 TDI Technology',\n",
       "       'Ford Classic 1.4 Duratorq CLXI', 'Renault Koleos 4X2 MT',\n",
       "       'Land Rover Freelander 2 TD4 SE', 'Honda Amaze E i-DTEC',\n",
       "       'Volvo V40 Cross Country D3', 'Ford Figo 1.2P Titanium MT',\n",
       "       'Maruti Ciaz VDi Option SHVS',\n",
       "       'Tata Indica Vista Terra Quadrajet 1.3L BS IV',\n",
       "       'Hyundai EON Magna', 'Mahindra KUV 100 mFALCON G80 K6 Plus',\n",
       "       'Hyundai i20 1.2 Spotz', 'Mercedes-Benz GLA Class 220 d 4MATIC',\n",
       "       'Maruti Wagon R Stingray LXI', 'Mahindra Bolero Power Plus ZLX',\n",
       "       'Tata Indica Vista Aura 1.3 Quadrajet',\n",
       "       'Hyundai Elite i20 Petrol Sportz', 'Toyota Qualis FS B3',\n",
       "       'Maruti Swift Dzire LXI', 'Fiat Linea Classic 1.3 Multijet',\n",
       "       'Hyundai i20 1.2 Asta', 'Ford Endeavour 2.2 Titanium AT 4X2',\n",
       "       'Mahindra Scorpio VLS 2.2 mHawk', 'Maruti Ciaz VDi',\n",
       "       'Audi A4 35 TDI Premium Plus',\n",
       "       'Ford Freestyle Titanium Plus Diesel',\n",
       "       'Hyundai EON D Lite Plus Option', 'Maruti Wagon R VXI',\n",
       "       'Ford EcoSport 1.5 Ti VCT MT Titanium',\n",
       "       'Renault Duster 110PS Diesel RxZ AMT', 'Maruti Swift VVT ZXI',\n",
       "       'Mahindra Xylo D4', 'Honda CR-V 2.4 AT',\n",
       "       'Fiat Punto EVO 1.3 Emotion', 'Fiat Abarth 595 Competizione',\n",
       "       'Ford Ecosport 1.0 Ecoboost Platinum Edition',\n",
       "       'Jaguar XF 3.0 Litre S Premium Luxury',\n",
       "       'Mercedes-Benz M-Class ML 320 CDI',\n",
       "       'Toyota Innova 2.5 V Diesel 7-seater',\n",
       "       'Volkswagen Polo 1.2 MPI Comfortline',\n",
       "       'Hyundai Accent Executive LPG', 'ISUZU D-MAX V-Cross 4X4',\n",
       "       'Honda BR-V i-VTEC VX MT',\n",
       "       'Mercedes-Benz B Class 2012-2015 B200 Sport CDI',\n",
       "       'Maruti Eeco 5 STR With AC Plus HTR CNG',\n",
       "       'Volkswagen Vento 1.6 Trendline', 'Maruti Versa DX2',\n",
       "       'Maruti Swift Dzire 1.2 Lxi BSIV',\n",
       "       'Volkswagen Vento Diesel Trendline', 'Hyundai Elantra 1.6 SX',\n",
       "       'Datsun redi-GO T Option', 'Honda City i DTec SV',\n",
       "       'Mercedes-Benz New C-Class C 250 CDI Elegance',\n",
       "       'Hyundai Sonata Embera 2.4L MT', 'Hyundai Verna 1.6 VTVT EX AT',\n",
       "       'Honda Amaze VX CVT i-VTEC', 'Hyundai Sonata Transform 2.4 GDi AT',\n",
       "       'Maruti Alto 800 CNG LXI', 'Mercedes-Benz SLC 43 AMG',\n",
       "       'Toyota Fortuner 4x2 4 Speed AT',\n",
       "       'Mahindra Scorpio VLX 2WD Airbag BSIII', 'Mercedes-Benz GLE 350d',\n",
       "       'BMW 5 Series 2003-2012 520d', 'Maruti SX4 Zxi BSIII',\n",
       "       'Hyundai i20 1.4 Asta AT (O) with Sunroof',\n",
       "       'Hyundai Xcent 1.1 CRDi S', 'Renault Lodgy 110PS RxL',\n",
       "       'Honda City i DTec VX', 'Audi A4 3.0 TDI Quattro Premium',\n",
       "       'Mercedes-Benz E-Class 250 D W 124',\n",
       "       'Toyota Innova 2.5 LE 2014 Diesel 8 Seater',\n",
       "       'Volkswagen Jetta 2007-2011 2.0 TDI Trendline',\n",
       "       'Mahindra Bolero ZLX', 'Hyundai Grand i10 1.2 CRDi Sportz',\n",
       "       'Maruti Baleno Zeta 1.3', 'Mercedes-Benz E-Class E240 V6 AT',\n",
       "       'Nissan Terrano XE 85 PS', 'Mercedes-Benz New C-Class C 200 CGI',\n",
       "       'Honda City 1.5 V MT Sunroof',\n",
       "       'Toyota Innova 2.5 GX (Diesel) 8 Seater BS IV',\n",
       "       'BMW 5 Series 2007-2010 525d Sedan', 'Volkswagen Polo GT TSI',\n",
       "       'Mahindra TUV 300 2015-2019 T8 AMT',\n",
       "       'Mercedes-Benz New C-Class C 220 CDI CLASSIC',\n",
       "       'Maruti Swift Dzire Ldi BSIV', 'Toyota Innova Crysta 2.4 VX MT 8S',\n",
       "       'Maruti SX4 ZDI', 'Hyundai Verna 1.4 CRDi',\n",
       "       'Honda Amaze EX i-Vtech',\n",
       "       'Audi A4 2.0 TDI Premium Sport Limited Edition',\n",
       "       'Tata Tigor 1.2 Revotron XT',\n",
       "       'Hyundai i20 2015-2017 1.4 CRDi Sportz',\n",
       "       'Mercedes-Benz E-Class E250 CDI Launch Edition',\n",
       "       'Ford Fiesta Classic 1.4 Duratorq CLXI',\n",
       "       'Hyundai Creta 1.6 VTVT Base', 'Maruti Ignis 1.2 AMT Delta',\n",
       "       'Honda City i-VTEC CVT ZX', 'Ford Fiesta Classic 1.6 Duratec LXI',\n",
       "       'Toyota Corolla Executive (HE)', 'Maruti Alto LXi BSIII',\n",
       "       'Maruti Ciaz VDi Plus', 'Maruti Ciaz 1.3 Alpha',\n",
       "       'Renault Pulse RxL', 'BMW 6 Series 650i Coupe',\n",
       "       'Tata Indigo eCS LX BSIV', 'Mercedes-Benz A Class A180 CDI',\n",
       "       'Toyota Corolla Altis GL', 'Honda Civic 2006-2010 1.8 (E) MT',\n",
       "       'OpelCorsa 1.4Gsi', 'Hyundai Creta 1.6 VTVT S',\n",
       "       'Volkswagen Ameo 1.5 TDI Highline',\n",
       "       'Hyundai Grand i10 CRDi Sportz', 'Maruti Swift Dzire AMT ZDI',\n",
       "       'Hyundai Grand i10 1.2 Kappa Sportz AT',\n",
       "       'Hyundai Grand i10 1.2 Kappa Magna',\n",
       "       'Maruti Swift VDi BSIII W/ ABS', 'Maruti Ciaz RS ZDi Plus SHVS',\n",
       "       'Volkswagen Vento 1.2 TSI Comfortline AT',\n",
       "       'Skoda Laura Ambition 2.0 TDI CR AT',\n",
       "       'Hyundai Xcent 1.1 CRDi S Celebration Edition',\n",
       "       'Mercedes-Benz New C-Class C 200 CGI Elegance',\n",
       "       'Maruti Swift Dzire VXI Optional',\n",
       "       'Audi Q5 3.0 TDI Quattro Technology',\n",
       "       'Mahindra KUV 100 mFALCON D75 K6 5str AW',\n",
       "       'Tata Tiago 1.2 Revotron XT', 'Mahindra Scorpio VLX 2WD BSIII',\n",
       "       'Toyota Innova Crysta 2.8 GX AT', 'Maruti Wagon R VXI BSIII',\n",
       "       'Honda Civic 2006-2010 1.8 MT Sport', 'Mahindra Thar CRDe',\n",
       "       'Tata Zest Revotron 1.2T XE', 'Mahindra Ssangyong Rexton RX7',\n",
       "       'Tata Zest Quadrajet 1.3 75PS XE',\n",
       "       'Chevrolet Enjoy Petrol LTZ 7 Seater',\n",
       "       'Skoda Superb Elegance 2.0 TDI CR AT',\n",
       "       'Hyundai i20 2015-2017 Magna Optional 1.4 CRDi',\n",
       "       'Mahindra Scorpio S6 Plus 7 Seater', 'Mercedes-Benz CLA 45 AMG',\n",
       "       'Toyota Camry 2.5 G', 'Audi Q5 2008-2012 3.0 TDI Quattro',\n",
       "       'Maruti Esteem Vxi - BSIII', 'Jeep Compass 2.0 Longitude',\n",
       "       'Honda City 1.5 V AT', 'Mini Clubman Cooper S',\n",
       "       'Honda City ZX EXi', 'Chevrolet Spark 1.0 PS',\n",
       "       'Chevrolet Enjoy 1.4 LTZ 8', 'Fiat Grande Punto 1.4 Emotion',\n",
       "       'Maruti Vitara Brezza ZDi AMT', 'Hyundai i20 1.4 Asta (AT)',\n",
       "       'Hyundai Elantra CRDi', 'Mahindra XUV500 W10 2WD',\n",
       "       'Audi A6 2.0 TDI Design Edition',\n",
       "       'Tata Tiago 1.2 Revotron XZ WO Alloy',\n",
       "       'Mercedes-Benz A Class Edition 1', 'BMW 7 Series 740i Sedan',\n",
       "       'Land Rover Range Rover 2.2L Pure',\n",
       "       'Hyundai Creta 1.6 SX Plus Petrol Automatic',\n",
       "       'Volkswagen Vento 1.2 TSI Highline AT', 'Mini Cooper Countryman D',\n",
       "       'Volvo S60 D4 KINETIC', 'Maruti Ertiga ZXI',\n",
       "       'Mercedes-Benz New C-Class C 220 CDI Style',\n",
       "       'Maruti Swift Dzire 1.2 Vxi BSIV',\n",
       "       'Mercedes-Benz GLA Class 200 CDI SPORT',\n",
       "       'Honda City i VTEC VX Option', 'Maruti Alto LXi BSII',\n",
       "       'Hyundai Elite i20 Petrol Asta', 'Honda Amaze VX i-DTEC',\n",
       "       'Volkswagen Jetta 2007-2011 2.0 TDI Comfortline',\n",
       "       'Mercedes-Benz S Class 2005 2013 320 L',\n",
       "       'Maruti Zen Estilo LXI BSIII', 'Hyundai Verna CRDi SX',\n",
       "       'Hyundai Verna VTVT 1.6 AT SX Option', 'Maruti Baleno Vxi - BSIII',\n",
       "       'Volkswagen Vento Diesel Comfortline', 'Hyundai i10 Magna 1.1L',\n",
       "       'Jeep Compass 2.0 Sport', 'Hyundai i10 Era 1.1',\n",
       "       'Maruti Alto XCITE', 'Ford Figo Diesel EXI',\n",
       "       'Land Rover Discovery 4 TDV6 Auto Diesel',\n",
       "       'Hyundai Grand i10 1.2 Kappa Sportz Option',\n",
       "       'Hyundai i20 Sportz Option 1.2',\n",
       "       'Hyundai Verna Transform VTVT with Audio', 'Honda City i VTEC VX',\n",
       "       'Tata Indica Vista Quadrajet LS', 'Hyundai i20 Active 1.4 SX',\n",
       "       'BMW X5 xDrive 30d Design Pure Experience 5 Seater',\n",
       "       'Maruti Vitara Brezza ZDi Plus AMT', 'Ford Fiesta 1.4 Duratec EXI',\n",
       "       'Maruti Dzire AMT VDI', 'Honda City i-VTEC VX',\n",
       "       'Chevrolet Captiva LT', 'Skoda Superb Petrol Ambition',\n",
       "       'Mahindra Renault Logan 1.5 DLE Diesel',\n",
       "       'Tata Tiago 1.05 Revotorq XT Option',\n",
       "       'Volkswagen Vento Petrol Highline AT',\n",
       "       'Ford EcoSport 1.5 Petrol Ambiente', 'Jeep Compass 1.4 Sport',\n",
       "       'Hyundai Verna 1.6 SX VTVT (O)', 'Hyundai Elite i20 Magna Plus',\n",
       "       'Honda Amaze VX AT i-Vtech', 'Chevrolet Aveo 1.4 LS',\n",
       "       'Mercedes-Benz E-Class 2009-2013 E 220 CDI Avantgarde'],\n",
       "      dtype=object)"
      ]
     },
     "execution_count": 143,
     "metadata": {},
     "output_type": "execute_result"
    }
   ],
   "source": [
    "test.Name.unique()"
   ]
  },
  {
   "cell_type": "code",
   "execution_count": 144,
   "metadata": {},
   "outputs": [
    {
     "data": {
      "text/plain": [
       "array(['CNG', 'Petrol', 'Diesel', 'LPG'], dtype=object)"
      ]
     },
     "execution_count": 144,
     "metadata": {},
     "output_type": "execute_result"
    }
   ],
   "source": [
    "test.Fuel_Type.unique()"
   ]
  },
  {
   "cell_type": "code",
   "execution_count": 145,
   "metadata": {},
   "outputs": [
    {
     "data": {
      "text/plain": [
       "array(['Manual', 'Automatic'], dtype=object)"
      ]
     },
     "execution_count": 145,
     "metadata": {},
     "output_type": "execute_result"
    }
   ],
   "source": [
    "test.Transmission.unique()"
   ]
  },
  {
   "cell_type": "code",
   "execution_count": 146,
   "metadata": {},
   "outputs": [
    {
     "data": {
      "text/plain": [
       "array(['First', 'Second', 'Third', 'Fourth & Above'], dtype=object)"
      ]
     },
     "execution_count": 146,
     "metadata": {},
     "output_type": "execute_result"
    }
   ],
   "source": [
    "test.Owner_Type.unique()"
   ]
  },
  {
   "cell_type": "code",
   "execution_count": 147,
   "metadata": {},
   "outputs": [
    {
     "data": {
      "text/plain": [
       "array([ 4,  5,  7,  6,  8, 10,  2], dtype=int64)"
      ]
     },
     "execution_count": 147,
     "metadata": {},
     "output_type": "execute_result"
    }
   ],
   "source": [
    "test.Seats.unique()"
   ]
  },
  {
   "cell_type": "code",
   "execution_count": 148,
   "metadata": {},
   "outputs": [
    {
     "data": {
      "text/plain": [
       "['Name',\n",
       " 'Location',\n",
       " 'Year',\n",
       " 'Kilometers_Driven',\n",
       " 'Fuel_Type',\n",
       " 'Transmission',\n",
       " 'Owner_Type',\n",
       " 'Mileage(kmpl)',\n",
       " 'Engine(CC)',\n",
       " 'Power(bhp)',\n",
       " 'Seats',\n",
       " 'Price']"
      ]
     },
     "execution_count": 148,
     "metadata": {},
     "output_type": "execute_result"
    }
   ],
   "source": [
    "train.columns.tolist()"
   ]
  },
  {
   "cell_type": "code",
   "execution_count": 149,
   "metadata": {},
   "outputs": [
    {
     "data": {
      "text/plain": [
       "['Name',\n",
       " 'Location',\n",
       " 'Year',\n",
       " 'Kilometers_Driven',\n",
       " 'Fuel_Type',\n",
       " 'Transmission',\n",
       " 'Owner_Type',\n",
       " 'Mileage(kmpl)',\n",
       " 'Engine(CC)',\n",
       " 'Power(bhp)',\n",
       " 'Seats']"
      ]
     },
     "execution_count": 149,
     "metadata": {},
     "output_type": "execute_result"
    }
   ],
   "source": [
    "test.columns.tolist()"
   ]
  },
  {
   "cell_type": "code",
   "execution_count": 150,
   "metadata": {},
   "outputs": [
    {
     "data": {
      "text/plain": [
       "Name                  object\n",
       "Location              object\n",
       "Year                   int64\n",
       "Kilometers_Driven      int64\n",
       "Fuel_Type             object\n",
       "Transmission          object\n",
       "Owner_Type            object\n",
       "Mileage(kmpl)        float64\n",
       "Engine(CC)             int64\n",
       "Power(bhp)           float64\n",
       "Seats                  int64\n",
       "Price                float64\n",
       "dtype: object"
      ]
     },
     "execution_count": 150,
     "metadata": {},
     "output_type": "execute_result"
    }
   ],
   "source": [
    "train.dtypes"
   ]
  },
  {
   "cell_type": "code",
   "execution_count": 151,
   "metadata": {},
   "outputs": [
    {
     "data": {
      "text/plain": [
       "Name                  object\n",
       "Location              object\n",
       "Year                   int64\n",
       "Kilometers_Driven      int64\n",
       "Fuel_Type             object\n",
       "Transmission          object\n",
       "Owner_Type            object\n",
       "Mileage(kmpl)        float64\n",
       "Engine(CC)             int64\n",
       "Power(bhp)           float64\n",
       "Seats                  int64\n",
       "dtype: object"
      ]
     },
     "execution_count": 151,
     "metadata": {},
     "output_type": "execute_result"
    }
   ],
   "source": [
    "test.dtypes"
   ]
  },
  {
   "cell_type": "code",
   "execution_count": 152,
   "metadata": {},
   "outputs": [
    {
     "name": "stdout",
     "output_type": "stream",
     "text": [
      "<class 'pandas.core.frame.DataFrame'>\n",
      "RangeIndex: 5871 entries, 0 to 5870\n",
      "Data columns (total 12 columns):\n",
      " #   Column             Non-Null Count  Dtype  \n",
      "---  ------             --------------  -----  \n",
      " 0   Name               5871 non-null   object \n",
      " 1   Location           5871 non-null   object \n",
      " 2   Year               5871 non-null   int64  \n",
      " 3   Kilometers_Driven  5871 non-null   int64  \n",
      " 4   Fuel_Type          5871 non-null   object \n",
      " 5   Transmission       5871 non-null   object \n",
      " 6   Owner_Type         5871 non-null   object \n",
      " 7   Mileage(kmpl)      5871 non-null   float64\n",
      " 8   Engine(CC)         5871 non-null   int64  \n",
      " 9   Power(bhp)         5871 non-null   float64\n",
      " 10  Seats              5871 non-null   int64  \n",
      " 11  Price              5871 non-null   float64\n",
      "dtypes: float64(3), int64(4), object(5)\n",
      "memory usage: 550.5+ KB\n"
     ]
    }
   ],
   "source": [
    "train.info()"
   ]
  },
  {
   "cell_type": "code",
   "execution_count": 153,
   "metadata": {},
   "outputs": [
    {
     "name": "stdout",
     "output_type": "stream",
     "text": [
      "<class 'pandas.core.frame.DataFrame'>\n",
      "RangeIndex: 1201 entries, 0 to 1200\n",
      "Data columns (total 11 columns):\n",
      " #   Column             Non-Null Count  Dtype  \n",
      "---  ------             --------------  -----  \n",
      " 0   Name               1201 non-null   object \n",
      " 1   Location           1201 non-null   object \n",
      " 2   Year               1201 non-null   int64  \n",
      " 3   Kilometers_Driven  1201 non-null   int64  \n",
      " 4   Fuel_Type          1201 non-null   object \n",
      " 5   Transmission       1201 non-null   object \n",
      " 6   Owner_Type         1201 non-null   object \n",
      " 7   Mileage(kmpl)      1201 non-null   float64\n",
      " 8   Engine(CC)         1201 non-null   int64  \n",
      " 9   Power(bhp)         1201 non-null   float64\n",
      " 10  Seats              1201 non-null   int64  \n",
      "dtypes: float64(2), int64(4), object(5)\n",
      "memory usage: 103.3+ KB\n"
     ]
    }
   ],
   "source": [
    "test.info()"
   ]
  },
  {
   "cell_type": "code",
   "execution_count": 154,
   "metadata": {},
   "outputs": [
    {
     "data": {
      "text/plain": [
       "Name                 0\n",
       "Location             0\n",
       "Year                 0\n",
       "Kilometers_Driven    0\n",
       "Fuel_Type            0\n",
       "Transmission         0\n",
       "Owner_Type           0\n",
       "Mileage(kmpl)        0\n",
       "Engine(CC)           0\n",
       "Power(bhp)           0\n",
       "Seats                0\n",
       "Price                0\n",
       "dtype: int64"
      ]
     },
     "execution_count": 154,
     "metadata": {},
     "output_type": "execute_result"
    }
   ],
   "source": [
    "train.isnull().sum()"
   ]
  },
  {
   "cell_type": "code",
   "execution_count": 155,
   "metadata": {},
   "outputs": [
    {
     "data": {
      "text/plain": [
       "Name                 0\n",
       "Location             0\n",
       "Year                 0\n",
       "Kilometers_Driven    0\n",
       "Fuel_Type            0\n",
       "Transmission         0\n",
       "Owner_Type           0\n",
       "Mileage(kmpl)        0\n",
       "Engine(CC)           0\n",
       "Power(bhp)           0\n",
       "Seats                0\n",
       "dtype: int64"
      ]
     },
     "execution_count": 155,
     "metadata": {},
     "output_type": "execute_result"
    }
   ],
   "source": [
    "test.isnull().sum()"
   ]
  },
  {
   "cell_type": "code",
   "execution_count": 156,
   "metadata": {},
   "outputs": [
    {
     "name": "stdout",
     "output_type": "stream",
     "text": [
      "Unique values in Name 1811\n",
      "Unique values in Location 11\n",
      "Unique values in Year 22\n",
      "Unique values in Kilometers_Driven 3037\n",
      "Unique values in Fuel_Type 4\n",
      "Unique values in Transmission 2\n",
      "Unique values in Owner_Type 4\n",
      "Unique values in Mileage(kmpl) 429\n",
      "Unique values in Engine(CC) 139\n",
      "Unique values in Power(bhp) 368\n",
      "Unique values in Seats 8\n",
      "Unique values in Price 1364\n"
     ]
    }
   ],
   "source": [
    "#Cheking Unique values in features\n",
    "for i in train.columns:\n",
    "    print(\"Unique values in\", i, train[i].nunique())"
   ]
  },
  {
   "cell_type": "code",
   "execution_count": 157,
   "metadata": {},
   "outputs": [
    {
     "name": "stdout",
     "output_type": "stream",
     "text": [
      "Unique values in Name 745\n",
      "Unique values in Location 11\n",
      "Unique values in Year 19\n",
      "Unique values in Kilometers_Driven 740\n",
      "Unique values in Fuel_Type 4\n",
      "Unique values in Transmission 2\n",
      "Unique values in Owner_Type 4\n",
      "Unique values in Mileage(kmpl) 296\n",
      "Unique values in Engine(CC) 103\n",
      "Unique values in Power(bhp) 247\n",
      "Unique values in Seats 7\n"
     ]
    }
   ],
   "source": [
    "#Cheking Unique values in features\n",
    "for i in test.columns:\n",
    "    print(\"Unique values in\", i, test[i].nunique())"
   ]
  },
  {
   "cell_type": "code",
   "execution_count": 158,
   "metadata": {},
   "outputs": [
    {
     "data": {
      "text/html": [
       "<div>\n",
       "<style scoped>\n",
       "    .dataframe tbody tr th:only-of-type {\n",
       "        vertical-align: middle;\n",
       "    }\n",
       "\n",
       "    .dataframe tbody tr th {\n",
       "        vertical-align: top;\n",
       "    }\n",
       "\n",
       "    .dataframe thead th {\n",
       "        text-align: right;\n",
       "    }\n",
       "</style>\n",
       "<table border=\"1\" class=\"dataframe\">\n",
       "  <thead>\n",
       "    <tr style=\"text-align: right;\">\n",
       "      <th></th>\n",
       "      <th>count</th>\n",
       "      <th>mean</th>\n",
       "      <th>std</th>\n",
       "      <th>min</th>\n",
       "      <th>25%</th>\n",
       "      <th>50%</th>\n",
       "      <th>75%</th>\n",
       "      <th>max</th>\n",
       "    </tr>\n",
       "  </thead>\n",
       "  <tbody>\n",
       "    <tr>\n",
       "      <th>Year</th>\n",
       "      <td>5871.0</td>\n",
       "      <td>2013.477091</td>\n",
       "      <td>3.164504</td>\n",
       "      <td>1998.00</td>\n",
       "      <td>2012.000</td>\n",
       "      <td>2014.00</td>\n",
       "      <td>2016.0</td>\n",
       "      <td>2019.00</td>\n",
       "    </tr>\n",
       "    <tr>\n",
       "      <th>Kilometers_Driven</th>\n",
       "      <td>5871.0</td>\n",
       "      <td>57219.795435</td>\n",
       "      <td>37767.720785</td>\n",
       "      <td>171.00</td>\n",
       "      <td>33420.000</td>\n",
       "      <td>52600.00</td>\n",
       "      <td>72394.5</td>\n",
       "      <td>775000.00</td>\n",
       "    </tr>\n",
       "    <tr>\n",
       "      <th>Mileage(kmpl)</th>\n",
       "      <td>5871.0</td>\n",
       "      <td>18.278232</td>\n",
       "      <td>4.365925</td>\n",
       "      <td>0.00</td>\n",
       "      <td>15.260</td>\n",
       "      <td>18.20</td>\n",
       "      <td>21.1</td>\n",
       "      <td>33.54</td>\n",
       "    </tr>\n",
       "    <tr>\n",
       "      <th>Engine(CC)</th>\n",
       "      <td>5871.0</td>\n",
       "      <td>1625.512689</td>\n",
       "      <td>601.428284</td>\n",
       "      <td>624.00</td>\n",
       "      <td>1198.000</td>\n",
       "      <td>1495.00</td>\n",
       "      <td>1991.0</td>\n",
       "      <td>5998.00</td>\n",
       "    </tr>\n",
       "    <tr>\n",
       "      <th>Power(bhp)</th>\n",
       "      <td>5871.0</td>\n",
       "      <td>113.252243</td>\n",
       "      <td>53.853358</td>\n",
       "      <td>34.20</td>\n",
       "      <td>75.000</td>\n",
       "      <td>97.70</td>\n",
       "      <td>138.1</td>\n",
       "      <td>560.00</td>\n",
       "    </tr>\n",
       "    <tr>\n",
       "      <th>Seats</th>\n",
       "      <td>5871.0</td>\n",
       "      <td>5.283768</td>\n",
       "      <td>0.805141</td>\n",
       "      <td>2.00</td>\n",
       "      <td>5.000</td>\n",
       "      <td>5.00</td>\n",
       "      <td>5.0</td>\n",
       "      <td>10.00</td>\n",
       "    </tr>\n",
       "    <tr>\n",
       "      <th>Price</th>\n",
       "      <td>5871.0</td>\n",
       "      <td>9.594483</td>\n",
       "      <td>11.227150</td>\n",
       "      <td>0.44</td>\n",
       "      <td>3.515</td>\n",
       "      <td>5.75</td>\n",
       "      <td>10.0</td>\n",
       "      <td>160.00</td>\n",
       "    </tr>\n",
       "  </tbody>\n",
       "</table>\n",
       "</div>"
      ],
      "text/plain": [
       "                    count          mean           std      min        25%  \\\n",
       "Year               5871.0   2013.477091      3.164504  1998.00   2012.000   \n",
       "Kilometers_Driven  5871.0  57219.795435  37767.720785   171.00  33420.000   \n",
       "Mileage(kmpl)      5871.0     18.278232      4.365925     0.00     15.260   \n",
       "Engine(CC)         5871.0   1625.512689    601.428284   624.00   1198.000   \n",
       "Power(bhp)         5871.0    113.252243     53.853358    34.20     75.000   \n",
       "Seats              5871.0      5.283768      0.805141     2.00      5.000   \n",
       "Price              5871.0      9.594483     11.227150     0.44      3.515   \n",
       "\n",
       "                        50%      75%        max  \n",
       "Year                2014.00   2016.0    2019.00  \n",
       "Kilometers_Driven  52600.00  72394.5  775000.00  \n",
       "Mileage(kmpl)         18.20     21.1      33.54  \n",
       "Engine(CC)          1495.00   1991.0    5998.00  \n",
       "Power(bhp)            97.70    138.1     560.00  \n",
       "Seats                  5.00      5.0      10.00  \n",
       "Price                  5.75     10.0     160.00  "
      ]
     },
     "execution_count": 158,
     "metadata": {},
     "output_type": "execute_result"
    }
   ],
   "source": [
    "#Cheking statistical details like count, percentile, mean, std of numeric values of dataset \n",
    "\n",
    "train.describe().T"
   ]
  },
  {
   "cell_type": "code",
   "execution_count": 159,
   "metadata": {},
   "outputs": [
    {
     "data": {
      "text/html": [
       "<div>\n",
       "<style scoped>\n",
       "    .dataframe tbody tr th:only-of-type {\n",
       "        vertical-align: middle;\n",
       "    }\n",
       "\n",
       "    .dataframe tbody tr th {\n",
       "        vertical-align: top;\n",
       "    }\n",
       "\n",
       "    .dataframe thead th {\n",
       "        text-align: right;\n",
       "    }\n",
       "</style>\n",
       "<table border=\"1\" class=\"dataframe\">\n",
       "  <thead>\n",
       "    <tr style=\"text-align: right;\">\n",
       "      <th></th>\n",
       "      <th>Year</th>\n",
       "      <th>Kilometers_Driven</th>\n",
       "      <th>Mileage(kmpl)</th>\n",
       "      <th>Engine(CC)</th>\n",
       "      <th>Power(bhp)</th>\n",
       "      <th>Seats</th>\n",
       "      <th>Price</th>\n",
       "    </tr>\n",
       "  </thead>\n",
       "  <tbody>\n",
       "    <tr>\n",
       "      <th>Year</th>\n",
       "      <td>1.000000</td>\n",
       "      <td>-0.445758</td>\n",
       "      <td>0.285760</td>\n",
       "      <td>-0.068513</td>\n",
       "      <td>0.014032</td>\n",
       "      <td>0.007901</td>\n",
       "      <td>0.299192</td>\n",
       "    </tr>\n",
       "    <tr>\n",
       "      <th>Kilometers_Driven</th>\n",
       "      <td>-0.445758</td>\n",
       "      <td>1.000000</td>\n",
       "      <td>-0.132564</td>\n",
       "      <td>0.161086</td>\n",
       "      <td>0.003689</td>\n",
       "      <td>0.212992</td>\n",
       "      <td>-0.163565</td>\n",
       "    </tr>\n",
       "    <tr>\n",
       "      <th>Mileage(kmpl)</th>\n",
       "      <td>0.285760</td>\n",
       "      <td>-0.132564</td>\n",
       "      <td>1.000000</td>\n",
       "      <td>-0.637349</td>\n",
       "      <td>-0.538946</td>\n",
       "      <td>-0.331619</td>\n",
       "      <td>-0.341924</td>\n",
       "    </tr>\n",
       "    <tr>\n",
       "      <th>Engine(CC)</th>\n",
       "      <td>-0.068513</td>\n",
       "      <td>0.161086</td>\n",
       "      <td>-0.637349</td>\n",
       "      <td>1.000000</td>\n",
       "      <td>0.866174</td>\n",
       "      <td>0.401433</td>\n",
       "      <td>0.657790</td>\n",
       "    </tr>\n",
       "    <tr>\n",
       "      <th>Power(bhp)</th>\n",
       "      <td>0.014032</td>\n",
       "      <td>0.003689</td>\n",
       "      <td>-0.538946</td>\n",
       "      <td>0.866174</td>\n",
       "      <td>1.000000</td>\n",
       "      <td>0.101684</td>\n",
       "      <td>0.772661</td>\n",
       "    </tr>\n",
       "    <tr>\n",
       "      <th>Seats</th>\n",
       "      <td>0.007901</td>\n",
       "      <td>0.212992</td>\n",
       "      <td>-0.331619</td>\n",
       "      <td>0.401433</td>\n",
       "      <td>0.101684</td>\n",
       "      <td>1.000000</td>\n",
       "      <td>0.055959</td>\n",
       "    </tr>\n",
       "    <tr>\n",
       "      <th>Price</th>\n",
       "      <td>0.299192</td>\n",
       "      <td>-0.163565</td>\n",
       "      <td>-0.341924</td>\n",
       "      <td>0.657790</td>\n",
       "      <td>0.772661</td>\n",
       "      <td>0.055959</td>\n",
       "      <td>1.000000</td>\n",
       "    </tr>\n",
       "  </tbody>\n",
       "</table>\n",
       "</div>"
      ],
      "text/plain": [
       "                       Year  Kilometers_Driven  Mileage(kmpl)  Engine(CC)  \\\n",
       "Year               1.000000          -0.445758       0.285760   -0.068513   \n",
       "Kilometers_Driven -0.445758           1.000000      -0.132564    0.161086   \n",
       "Mileage(kmpl)      0.285760          -0.132564       1.000000   -0.637349   \n",
       "Engine(CC)        -0.068513           0.161086      -0.637349    1.000000   \n",
       "Power(bhp)         0.014032           0.003689      -0.538946    0.866174   \n",
       "Seats              0.007901           0.212992      -0.331619    0.401433   \n",
       "Price              0.299192          -0.163565      -0.341924    0.657790   \n",
       "\n",
       "                   Power(bhp)     Seats     Price  \n",
       "Year                 0.014032  0.007901  0.299192  \n",
       "Kilometers_Driven    0.003689  0.212992 -0.163565  \n",
       "Mileage(kmpl)       -0.538946 -0.331619 -0.341924  \n",
       "Engine(CC)           0.866174  0.401433  0.657790  \n",
       "Power(bhp)           1.000000  0.101684  0.772661  \n",
       "Seats                0.101684  1.000000  0.055959  \n",
       "Price                0.772661  0.055959  1.000000  "
      ]
     },
     "execution_count": 159,
     "metadata": {},
     "output_type": "execute_result"
    }
   ],
   "source": [
    "#Checking pairwise correlation of dataset\n",
    "\n",
    "train.corr().T"
   ]
  },
  {
   "cell_type": "code",
   "execution_count": 160,
   "metadata": {},
   "outputs": [],
   "source": [
    "#DataCleaning\n",
    "#1.) Feature column : Name - Separating the column as Brand and Model\n",
    "#Training Set\n",
    "names = list(train.Name)\n",
    "brand = []\n",
    "model = []\n",
    "for i in range(len(names)):\n",
    "    try:\n",
    "        brand.append(names[i].split(\" \")[0].strip())\n",
    "        try:\n",
    "             model.append(\" \".join(names[i].split(\" \")[1:]).strip())\n",
    "        \n",
    "        \n",
    "# strip() for string operation it adjust speaces.\n",
    "#If the optional chars parameter is not given, all leading \n",
    "#and trailing whitespaces are removed from the string.\n",
    "\n",
    "\n",
    "        except:   \n",
    "             pass\n",
    "    except:\n",
    "        print(\"ERR ! - \", names[i], \"@\" , i)\n",
    "train[\"Brand\"] =  brand\n",
    "train[\"Model\"] = model\n",
    "train.drop(labels = ['Name'], axis = 1, inplace = True)        \n"
   ]
  },
  {
   "cell_type": "code",
   "execution_count": 161,
   "metadata": {},
   "outputs": [
    {
     "data": {
      "text/html": [
       "<div>\n",
       "<style scoped>\n",
       "    .dataframe tbody tr th:only-of-type {\n",
       "        vertical-align: middle;\n",
       "    }\n",
       "\n",
       "    .dataframe tbody tr th {\n",
       "        vertical-align: top;\n",
       "    }\n",
       "\n",
       "    .dataframe thead th {\n",
       "        text-align: right;\n",
       "    }\n",
       "</style>\n",
       "<table border=\"1\" class=\"dataframe\">\n",
       "  <thead>\n",
       "    <tr style=\"text-align: right;\">\n",
       "      <th></th>\n",
       "      <th>Location</th>\n",
       "      <th>Year</th>\n",
       "      <th>Kilometers_Driven</th>\n",
       "      <th>Fuel_Type</th>\n",
       "      <th>Transmission</th>\n",
       "      <th>Owner_Type</th>\n",
       "      <th>Mileage(kmpl)</th>\n",
       "      <th>Engine(CC)</th>\n",
       "      <th>Power(bhp)</th>\n",
       "      <th>Seats</th>\n",
       "      <th>Price</th>\n",
       "      <th>Brand</th>\n",
       "      <th>Model</th>\n",
       "    </tr>\n",
       "  </thead>\n",
       "  <tbody>\n",
       "    <tr>\n",
       "      <th>0</th>\n",
       "      <td>Mumbai</td>\n",
       "      <td>2010</td>\n",
       "      <td>72000</td>\n",
       "      <td>CNG</td>\n",
       "      <td>Manual</td>\n",
       "      <td>First</td>\n",
       "      <td>26.60</td>\n",
       "      <td>998</td>\n",
       "      <td>58.16</td>\n",
       "      <td>5</td>\n",
       "      <td>1.75</td>\n",
       "      <td>Maruti</td>\n",
       "      <td>Wagon R LXI CNG</td>\n",
       "    </tr>\n",
       "    <tr>\n",
       "      <th>1</th>\n",
       "      <td>Pune</td>\n",
       "      <td>2015</td>\n",
       "      <td>41000</td>\n",
       "      <td>Diesel</td>\n",
       "      <td>Manual</td>\n",
       "      <td>First</td>\n",
       "      <td>19.67</td>\n",
       "      <td>1582</td>\n",
       "      <td>126.20</td>\n",
       "      <td>5</td>\n",
       "      <td>12.50</td>\n",
       "      <td>Hyundai</td>\n",
       "      <td>Creta 1.6 CRDi SX Option</td>\n",
       "    </tr>\n",
       "    <tr>\n",
       "      <th>2</th>\n",
       "      <td>Chennai</td>\n",
       "      <td>2011</td>\n",
       "      <td>46000</td>\n",
       "      <td>Petrol</td>\n",
       "      <td>Manual</td>\n",
       "      <td>First</td>\n",
       "      <td>18.20</td>\n",
       "      <td>1199</td>\n",
       "      <td>88.70</td>\n",
       "      <td>5</td>\n",
       "      <td>4.50</td>\n",
       "      <td>Honda</td>\n",
       "      <td>Jazz V</td>\n",
       "    </tr>\n",
       "    <tr>\n",
       "      <th>3</th>\n",
       "      <td>Chennai</td>\n",
       "      <td>2012</td>\n",
       "      <td>87000</td>\n",
       "      <td>Diesel</td>\n",
       "      <td>Manual</td>\n",
       "      <td>First</td>\n",
       "      <td>20.77</td>\n",
       "      <td>1248</td>\n",
       "      <td>88.76</td>\n",
       "      <td>7</td>\n",
       "      <td>6.00</td>\n",
       "      <td>Maruti</td>\n",
       "      <td>Ertiga VDI</td>\n",
       "    </tr>\n",
       "    <tr>\n",
       "      <th>4</th>\n",
       "      <td>Coimbatore</td>\n",
       "      <td>2013</td>\n",
       "      <td>40670</td>\n",
       "      <td>Diesel</td>\n",
       "      <td>Automatic</td>\n",
       "      <td>Second</td>\n",
       "      <td>15.20</td>\n",
       "      <td>1968</td>\n",
       "      <td>140.80</td>\n",
       "      <td>5</td>\n",
       "      <td>17.74</td>\n",
       "      <td>Audi</td>\n",
       "      <td>A4 New 2.0 TDI Multitronic</td>\n",
       "    </tr>\n",
       "  </tbody>\n",
       "</table>\n",
       "</div>"
      ],
      "text/plain": [
       "     Location  Year  Kilometers_Driven Fuel_Type Transmission Owner_Type  \\\n",
       "0      Mumbai  2010              72000       CNG       Manual      First   \n",
       "1        Pune  2015              41000    Diesel       Manual      First   \n",
       "2     Chennai  2011              46000    Petrol       Manual      First   \n",
       "3     Chennai  2012              87000    Diesel       Manual      First   \n",
       "4  Coimbatore  2013              40670    Diesel    Automatic     Second   \n",
       "\n",
       "   Mileage(kmpl)  Engine(CC)  Power(bhp)  Seats  Price    Brand  \\\n",
       "0          26.60         998       58.16      5   1.75   Maruti   \n",
       "1          19.67        1582      126.20      5  12.50  Hyundai   \n",
       "2          18.20        1199       88.70      5   4.50    Honda   \n",
       "3          20.77        1248       88.76      7   6.00   Maruti   \n",
       "4          15.20        1968      140.80      5  17.74     Audi   \n",
       "\n",
       "                        Model  \n",
       "0             Wagon R LXI CNG  \n",
       "1    Creta 1.6 CRDi SX Option  \n",
       "2                      Jazz V  \n",
       "3                  Ertiga VDI  \n",
       "4  A4 New 2.0 TDI Multitronic  "
      ]
     },
     "execution_count": 161,
     "metadata": {},
     "output_type": "execute_result"
    }
   ],
   "source": [
    "train.head()"
   ]
  },
  {
   "cell_type": "code",
   "execution_count": 162,
   "metadata": {},
   "outputs": [],
   "source": [
    "names = list(test.Name)\n",
    "brand = []\n",
    "model = []\n",
    "for i in range(len(names)):\n",
    "    try:\n",
    "        brand.append(names[i].split(\" \")[0].strip())\n",
    "        try:\n",
    "            model.append(\" \".join(names[i].split(\" \")[1:]).strip())\n",
    "        except:\n",
    "            pass\n",
    "    except:\n",
    "        print(\"ERR ! - \", names[i], \"@\" , i)\n",
    "test[\"Brand\"] =  brand\n",
    "test[\"Model\"] = model\n",
    "test.drop(labels = ['Name'], axis = 1, inplace = True)        "
   ]
  },
  {
   "cell_type": "code",
   "execution_count": 163,
   "metadata": {},
   "outputs": [
    {
     "data": {
      "text/html": [
       "<div>\n",
       "<style scoped>\n",
       "    .dataframe tbody tr th:only-of-type {\n",
       "        vertical-align: middle;\n",
       "    }\n",
       "\n",
       "    .dataframe tbody tr th {\n",
       "        vertical-align: top;\n",
       "    }\n",
       "\n",
       "    .dataframe thead th {\n",
       "        text-align: right;\n",
       "    }\n",
       "</style>\n",
       "<table border=\"1\" class=\"dataframe\">\n",
       "  <thead>\n",
       "    <tr style=\"text-align: right;\">\n",
       "      <th></th>\n",
       "      <th>Location</th>\n",
       "      <th>Year</th>\n",
       "      <th>Kilometers_Driven</th>\n",
       "      <th>Fuel_Type</th>\n",
       "      <th>Transmission</th>\n",
       "      <th>Owner_Type</th>\n",
       "      <th>Mileage(kmpl)</th>\n",
       "      <th>Engine(CC)</th>\n",
       "      <th>Power(bhp)</th>\n",
       "      <th>Seats</th>\n",
       "      <th>Brand</th>\n",
       "      <th>Model</th>\n",
       "    </tr>\n",
       "  </thead>\n",
       "  <tbody>\n",
       "    <tr>\n",
       "      <th>0</th>\n",
       "      <td>Delhi</td>\n",
       "      <td>2014</td>\n",
       "      <td>40929</td>\n",
       "      <td>CNG</td>\n",
       "      <td>Manual</td>\n",
       "      <td>First</td>\n",
       "      <td>32.26</td>\n",
       "      <td>998</td>\n",
       "      <td>58.20</td>\n",
       "      <td>4</td>\n",
       "      <td>Maruti</td>\n",
       "      <td>Alto K10 LXI CNG</td>\n",
       "    </tr>\n",
       "    <tr>\n",
       "      <th>1</th>\n",
       "      <td>Coimbatore</td>\n",
       "      <td>2013</td>\n",
       "      <td>54493</td>\n",
       "      <td>Petrol</td>\n",
       "      <td>Manual</td>\n",
       "      <td>Second</td>\n",
       "      <td>24.70</td>\n",
       "      <td>796</td>\n",
       "      <td>47.30</td>\n",
       "      <td>5</td>\n",
       "      <td>Maruti</td>\n",
       "      <td>Alto 800 2016-2019 LXI</td>\n",
       "    </tr>\n",
       "    <tr>\n",
       "      <th>2</th>\n",
       "      <td>Mumbai</td>\n",
       "      <td>2017</td>\n",
       "      <td>34000</td>\n",
       "      <td>Diesel</td>\n",
       "      <td>Manual</td>\n",
       "      <td>First</td>\n",
       "      <td>13.68</td>\n",
       "      <td>2393</td>\n",
       "      <td>147.80</td>\n",
       "      <td>7</td>\n",
       "      <td>Toyota</td>\n",
       "      <td>Innova Crysta Touring Sport 2.4 MT</td>\n",
       "    </tr>\n",
       "    <tr>\n",
       "      <th>3</th>\n",
       "      <td>Mumbai</td>\n",
       "      <td>2014</td>\n",
       "      <td>29000</td>\n",
       "      <td>Petrol</td>\n",
       "      <td>Manual</td>\n",
       "      <td>First</td>\n",
       "      <td>18.50</td>\n",
       "      <td>1197</td>\n",
       "      <td>82.85</td>\n",
       "      <td>5</td>\n",
       "      <td>Hyundai</td>\n",
       "      <td>i20 Magna</td>\n",
       "    </tr>\n",
       "    <tr>\n",
       "      <th>4</th>\n",
       "      <td>Coimbatore</td>\n",
       "      <td>2016</td>\n",
       "      <td>85609</td>\n",
       "      <td>Diesel</td>\n",
       "      <td>Manual</td>\n",
       "      <td>Second</td>\n",
       "      <td>16.00</td>\n",
       "      <td>2179</td>\n",
       "      <td>140.00</td>\n",
       "      <td>7</td>\n",
       "      <td>Mahindra</td>\n",
       "      <td>XUV500 W8 2WD</td>\n",
       "    </tr>\n",
       "  </tbody>\n",
       "</table>\n",
       "</div>"
      ],
      "text/plain": [
       "     Location  Year  Kilometers_Driven Fuel_Type Transmission Owner_Type  \\\n",
       "0       Delhi  2014              40929       CNG       Manual      First   \n",
       "1  Coimbatore  2013              54493    Petrol       Manual     Second   \n",
       "2      Mumbai  2017              34000    Diesel       Manual      First   \n",
       "3      Mumbai  2014              29000    Petrol       Manual      First   \n",
       "4  Coimbatore  2016              85609    Diesel       Manual     Second   \n",
       "\n",
       "   Mileage(kmpl)  Engine(CC)  Power(bhp)  Seats     Brand  \\\n",
       "0          32.26         998       58.20      4    Maruti   \n",
       "1          24.70         796       47.30      5    Maruti   \n",
       "2          13.68        2393      147.80      7    Toyota   \n",
       "3          18.50        1197       82.85      5   Hyundai   \n",
       "4          16.00        2179      140.00      7  Mahindra   \n",
       "\n",
       "                                Model  \n",
       "0                    Alto K10 LXI CNG  \n",
       "1              Alto 800 2016-2019 LXI  \n",
       "2  Innova Crysta Touring Sport 2.4 MT  \n",
       "3                           i20 Magna  \n",
       "4                       XUV500 W8 2WD  "
      ]
     },
     "execution_count": 163,
     "metadata": {},
     "output_type": "execute_result"
    }
   ],
   "source": [
    "test.head()"
   ]
  },
  {
   "cell_type": "code",
   "execution_count": 164,
   "metadata": {},
   "outputs": [],
   "source": [
    "train= train[['Brand', 'Model', 'Location', 'Year', 'Kilometers_Driven', 'Fuel_Type', 'Transmission',\n",
    "      'Owner_Type', 'Mileage(kmpl)', 'Engine(CC)', 'Power(bhp)', 'Seats', 'Price']]"
   ]
  },
  {
   "cell_type": "code",
   "execution_count": 165,
   "metadata": {},
   "outputs": [
    {
     "data": {
      "text/html": [
       "<div>\n",
       "<style scoped>\n",
       "    .dataframe tbody tr th:only-of-type {\n",
       "        vertical-align: middle;\n",
       "    }\n",
       "\n",
       "    .dataframe tbody tr th {\n",
       "        vertical-align: top;\n",
       "    }\n",
       "\n",
       "    .dataframe thead th {\n",
       "        text-align: right;\n",
       "    }\n",
       "</style>\n",
       "<table border=\"1\" class=\"dataframe\">\n",
       "  <thead>\n",
       "    <tr style=\"text-align: right;\">\n",
       "      <th></th>\n",
       "      <th>Brand</th>\n",
       "      <th>Model</th>\n",
       "      <th>Location</th>\n",
       "      <th>Year</th>\n",
       "      <th>Kilometers_Driven</th>\n",
       "      <th>Fuel_Type</th>\n",
       "      <th>Transmission</th>\n",
       "      <th>Owner_Type</th>\n",
       "      <th>Mileage(kmpl)</th>\n",
       "      <th>Engine(CC)</th>\n",
       "      <th>Power(bhp)</th>\n",
       "      <th>Seats</th>\n",
       "      <th>Price</th>\n",
       "    </tr>\n",
       "  </thead>\n",
       "  <tbody>\n",
       "    <tr>\n",
       "      <th>0</th>\n",
       "      <td>Maruti</td>\n",
       "      <td>Wagon R LXI CNG</td>\n",
       "      <td>Mumbai</td>\n",
       "      <td>2010</td>\n",
       "      <td>72000</td>\n",
       "      <td>CNG</td>\n",
       "      <td>Manual</td>\n",
       "      <td>First</td>\n",
       "      <td>26.60</td>\n",
       "      <td>998</td>\n",
       "      <td>58.16</td>\n",
       "      <td>5</td>\n",
       "      <td>1.75</td>\n",
       "    </tr>\n",
       "    <tr>\n",
       "      <th>1</th>\n",
       "      <td>Hyundai</td>\n",
       "      <td>Creta 1.6 CRDi SX Option</td>\n",
       "      <td>Pune</td>\n",
       "      <td>2015</td>\n",
       "      <td>41000</td>\n",
       "      <td>Diesel</td>\n",
       "      <td>Manual</td>\n",
       "      <td>First</td>\n",
       "      <td>19.67</td>\n",
       "      <td>1582</td>\n",
       "      <td>126.20</td>\n",
       "      <td>5</td>\n",
       "      <td>12.50</td>\n",
       "    </tr>\n",
       "    <tr>\n",
       "      <th>2</th>\n",
       "      <td>Honda</td>\n",
       "      <td>Jazz V</td>\n",
       "      <td>Chennai</td>\n",
       "      <td>2011</td>\n",
       "      <td>46000</td>\n",
       "      <td>Petrol</td>\n",
       "      <td>Manual</td>\n",
       "      <td>First</td>\n",
       "      <td>18.20</td>\n",
       "      <td>1199</td>\n",
       "      <td>88.70</td>\n",
       "      <td>5</td>\n",
       "      <td>4.50</td>\n",
       "    </tr>\n",
       "    <tr>\n",
       "      <th>3</th>\n",
       "      <td>Maruti</td>\n",
       "      <td>Ertiga VDI</td>\n",
       "      <td>Chennai</td>\n",
       "      <td>2012</td>\n",
       "      <td>87000</td>\n",
       "      <td>Diesel</td>\n",
       "      <td>Manual</td>\n",
       "      <td>First</td>\n",
       "      <td>20.77</td>\n",
       "      <td>1248</td>\n",
       "      <td>88.76</td>\n",
       "      <td>7</td>\n",
       "      <td>6.00</td>\n",
       "    </tr>\n",
       "    <tr>\n",
       "      <th>4</th>\n",
       "      <td>Audi</td>\n",
       "      <td>A4 New 2.0 TDI Multitronic</td>\n",
       "      <td>Coimbatore</td>\n",
       "      <td>2013</td>\n",
       "      <td>40670</td>\n",
       "      <td>Diesel</td>\n",
       "      <td>Automatic</td>\n",
       "      <td>Second</td>\n",
       "      <td>15.20</td>\n",
       "      <td>1968</td>\n",
       "      <td>140.80</td>\n",
       "      <td>5</td>\n",
       "      <td>17.74</td>\n",
       "    </tr>\n",
       "  </tbody>\n",
       "</table>\n",
       "</div>"
      ],
      "text/plain": [
       "     Brand                       Model    Location  Year  Kilometers_Driven  \\\n",
       "0   Maruti             Wagon R LXI CNG      Mumbai  2010              72000   \n",
       "1  Hyundai    Creta 1.6 CRDi SX Option        Pune  2015              41000   \n",
       "2    Honda                      Jazz V     Chennai  2011              46000   \n",
       "3   Maruti                  Ertiga VDI     Chennai  2012              87000   \n",
       "4     Audi  A4 New 2.0 TDI Multitronic  Coimbatore  2013              40670   \n",
       "\n",
       "  Fuel_Type Transmission Owner_Type  Mileage(kmpl)  Engine(CC)  Power(bhp)  \\\n",
       "0       CNG       Manual      First          26.60         998       58.16   \n",
       "1    Diesel       Manual      First          19.67        1582      126.20   \n",
       "2    Petrol       Manual      First          18.20        1199       88.70   \n",
       "3    Diesel       Manual      First          20.77        1248       88.76   \n",
       "4    Diesel    Automatic     Second          15.20        1968      140.80   \n",
       "\n",
       "   Seats  Price  \n",
       "0      5   1.75  \n",
       "1      5  12.50  \n",
       "2      5   4.50  \n",
       "3      7   6.00  \n",
       "4      5  17.74  "
      ]
     },
     "execution_count": 165,
     "metadata": {},
     "output_type": "execute_result"
    }
   ],
   "source": [
    "train.head()"
   ]
  },
  {
   "cell_type": "code",
   "execution_count": 166,
   "metadata": {},
   "outputs": [],
   "source": [
    "test= test[['Brand', 'Model', 'Location', 'Year', 'Kilometers_Driven', 'Fuel_Type', 'Transmission',\n",
    "      'Owner_Type', 'Mileage(kmpl)', 'Engine(CC)', 'Power(bhp)', 'Seats']]"
   ]
  },
  {
   "cell_type": "code",
   "execution_count": 167,
   "metadata": {},
   "outputs": [
    {
     "data": {
      "text/html": [
       "<div>\n",
       "<style scoped>\n",
       "    .dataframe tbody tr th:only-of-type {\n",
       "        vertical-align: middle;\n",
       "    }\n",
       "\n",
       "    .dataframe tbody tr th {\n",
       "        vertical-align: top;\n",
       "    }\n",
       "\n",
       "    .dataframe thead th {\n",
       "        text-align: right;\n",
       "    }\n",
       "</style>\n",
       "<table border=\"1\" class=\"dataframe\">\n",
       "  <thead>\n",
       "    <tr style=\"text-align: right;\">\n",
       "      <th></th>\n",
       "      <th>Brand</th>\n",
       "      <th>Model</th>\n",
       "      <th>Location</th>\n",
       "      <th>Year</th>\n",
       "      <th>Kilometers_Driven</th>\n",
       "      <th>Fuel_Type</th>\n",
       "      <th>Transmission</th>\n",
       "      <th>Owner_Type</th>\n",
       "      <th>Mileage(kmpl)</th>\n",
       "      <th>Engine(CC)</th>\n",
       "      <th>Power(bhp)</th>\n",
       "      <th>Seats</th>\n",
       "    </tr>\n",
       "  </thead>\n",
       "  <tbody>\n",
       "    <tr>\n",
       "      <th>0</th>\n",
       "      <td>Maruti</td>\n",
       "      <td>Alto K10 LXI CNG</td>\n",
       "      <td>Delhi</td>\n",
       "      <td>2014</td>\n",
       "      <td>40929</td>\n",
       "      <td>CNG</td>\n",
       "      <td>Manual</td>\n",
       "      <td>First</td>\n",
       "      <td>32.26</td>\n",
       "      <td>998</td>\n",
       "      <td>58.20</td>\n",
       "      <td>4</td>\n",
       "    </tr>\n",
       "    <tr>\n",
       "      <th>1</th>\n",
       "      <td>Maruti</td>\n",
       "      <td>Alto 800 2016-2019 LXI</td>\n",
       "      <td>Coimbatore</td>\n",
       "      <td>2013</td>\n",
       "      <td>54493</td>\n",
       "      <td>Petrol</td>\n",
       "      <td>Manual</td>\n",
       "      <td>Second</td>\n",
       "      <td>24.70</td>\n",
       "      <td>796</td>\n",
       "      <td>47.30</td>\n",
       "      <td>5</td>\n",
       "    </tr>\n",
       "    <tr>\n",
       "      <th>2</th>\n",
       "      <td>Toyota</td>\n",
       "      <td>Innova Crysta Touring Sport 2.4 MT</td>\n",
       "      <td>Mumbai</td>\n",
       "      <td>2017</td>\n",
       "      <td>34000</td>\n",
       "      <td>Diesel</td>\n",
       "      <td>Manual</td>\n",
       "      <td>First</td>\n",
       "      <td>13.68</td>\n",
       "      <td>2393</td>\n",
       "      <td>147.80</td>\n",
       "      <td>7</td>\n",
       "    </tr>\n",
       "    <tr>\n",
       "      <th>3</th>\n",
       "      <td>Hyundai</td>\n",
       "      <td>i20 Magna</td>\n",
       "      <td>Mumbai</td>\n",
       "      <td>2014</td>\n",
       "      <td>29000</td>\n",
       "      <td>Petrol</td>\n",
       "      <td>Manual</td>\n",
       "      <td>First</td>\n",
       "      <td>18.50</td>\n",
       "      <td>1197</td>\n",
       "      <td>82.85</td>\n",
       "      <td>5</td>\n",
       "    </tr>\n",
       "    <tr>\n",
       "      <th>4</th>\n",
       "      <td>Mahindra</td>\n",
       "      <td>XUV500 W8 2WD</td>\n",
       "      <td>Coimbatore</td>\n",
       "      <td>2016</td>\n",
       "      <td>85609</td>\n",
       "      <td>Diesel</td>\n",
       "      <td>Manual</td>\n",
       "      <td>Second</td>\n",
       "      <td>16.00</td>\n",
       "      <td>2179</td>\n",
       "      <td>140.00</td>\n",
       "      <td>7</td>\n",
       "    </tr>\n",
       "  </tbody>\n",
       "</table>\n",
       "</div>"
      ],
      "text/plain": [
       "      Brand                               Model    Location  Year  \\\n",
       "0    Maruti                    Alto K10 LXI CNG       Delhi  2014   \n",
       "1    Maruti              Alto 800 2016-2019 LXI  Coimbatore  2013   \n",
       "2    Toyota  Innova Crysta Touring Sport 2.4 MT      Mumbai  2017   \n",
       "3   Hyundai                           i20 Magna      Mumbai  2014   \n",
       "4  Mahindra                       XUV500 W8 2WD  Coimbatore  2016   \n",
       "\n",
       "   Kilometers_Driven Fuel_Type Transmission Owner_Type  Mileage(kmpl)  \\\n",
       "0              40929       CNG       Manual      First          32.26   \n",
       "1              54493    Petrol       Manual     Second          24.70   \n",
       "2              34000    Diesel       Manual      First          13.68   \n",
       "3              29000    Petrol       Manual      First          18.50   \n",
       "4              85609    Diesel       Manual     Second          16.00   \n",
       "\n",
       "   Engine(CC)  Power(bhp)  Seats  \n",
       "0         998       58.20      4  \n",
       "1         796       47.30      5  \n",
       "2        2393      147.80      7  \n",
       "3        1197       82.85      5  \n",
       "4        2179      140.00      7  "
      ]
     },
     "execution_count": 167,
     "metadata": {},
     "output_type": "execute_result"
    }
   ],
   "source": [
    "test.head()"
   ]
  },
  {
   "cell_type": "code",
   "execution_count": 168,
   "metadata": {},
   "outputs": [
    {
     "data": {
      "text/plain": [
       "Maruti           1175\n",
       "Hyundai          1058\n",
       "Honda             600\n",
       "Toyota            394\n",
       "Mercedes-Benz     316\n",
       "Volkswagen        314\n",
       "Ford              294\n",
       "Mahindra          268\n",
       "BMW               261\n",
       "Audi              235\n",
       "Tata              183\n",
       "Skoda             172\n",
       "Renault           145\n",
       "Chevrolet         120\n",
       "Nissan             89\n",
       "Land               57\n",
       "Jaguar             40\n",
       "Mitsubishi         27\n",
       "Mini               26\n",
       "Fiat               23\n",
       "Volvo              21\n",
       "Porsche            16\n",
       "Jeep               15\n",
       "Datsun             13\n",
       "Force               3\n",
       "ISUZU               2\n",
       "Isuzu               1\n",
       "Ambassador          1\n",
       "Lamborghini         1\n",
       "Bentley             1\n",
       "Name: Brand, dtype: int64"
      ]
     },
     "execution_count": 168,
     "metadata": {},
     "output_type": "execute_result"
    }
   ],
   "source": [
    "train['Brand'].value_counts()"
   ]
  },
  {
   "cell_type": "code",
   "execution_count": 169,
   "metadata": {},
   "outputs": [
    {
     "data": {
      "text/plain": [
       "Mumbai        775\n",
       "Hyderabad     718\n",
       "Kochi         645\n",
       "Coimbatore    629\n",
       "Pune          594\n",
       "Delhi         545\n",
       "Kolkata       521\n",
       "Chennai       475\n",
       "Jaipur        402\n",
       "Bangalore     347\n",
       "Ahmedabad     220\n",
       "Name: Location, dtype: int64"
      ]
     },
     "execution_count": 169,
     "metadata": {},
     "output_type": "execute_result"
    }
   ],
   "source": [
    "train.Location.value_counts()"
   ]
  },
  {
   "cell_type": "code",
   "execution_count": 170,
   "metadata": {},
   "outputs": [
    {
     "data": {
      "text/plain": [
       "Diesel    3151\n",
       "Petrol    2655\n",
       "CNG         55\n",
       "LPG         10\n",
       "Name: Fuel_Type, dtype: int64"
      ]
     },
     "execution_count": 170,
     "metadata": {},
     "output_type": "execute_result"
    }
   ],
   "source": [
    "train.Fuel_Type.value_counts()"
   ]
  },
  {
   "cell_type": "code",
   "execution_count": 171,
   "metadata": {},
   "outputs": [
    {
     "data": {
      "text/plain": [
       "Manual       4170\n",
       "Automatic    1701\n",
       "Name: Transmission, dtype: int64"
      ]
     },
     "execution_count": 171,
     "metadata": {},
     "output_type": "execute_result"
    }
   ],
   "source": [
    "train.Transmission.value_counts()"
   ]
  },
  {
   "cell_type": "code",
   "execution_count": 172,
   "metadata": {},
   "outputs": [
    {
     "data": {
      "text/plain": [
       "First             4838\n",
       "Second             925\n",
       "Third              101\n",
       "Fourth & Above       7\n",
       "Name: Owner_Type, dtype: int64"
      ]
     },
     "execution_count": 172,
     "metadata": {},
     "output_type": "execute_result"
    }
   ],
   "source": [
    "train.Owner_Type.value_counts()"
   ]
  },
  {
   "cell_type": "code",
   "execution_count": 173,
   "metadata": {},
   "outputs": [
    {
     "data": {
      "text/plain": [
       "5     4918\n",
       "7      672\n",
       "8      133\n",
       "4       99\n",
       "6       29\n",
       "2       13\n",
       "10       4\n",
       "9        3\n",
       "Name: Seats, dtype: int64"
      ]
     },
     "execution_count": 173,
     "metadata": {},
     "output_type": "execute_result"
    }
   ],
   "source": [
    "train.Seats.value_counts()"
   ]
  },
  {
   "cell_type": "code",
   "execution_count": 174,
   "metadata": {},
   "outputs": [],
   "source": [
    "df1 = train.copy() \n",
    "df1['Age_of_car'] = '2019'\n",
    "df1['Age_of_car'] = pd.to_datetime(df1['Age_of_car'],format='%Y')\n",
    "df1['Year'] = pd.to_datetime(df1['Year'],format='%Y')\n",
    "df1['Age_of_car'] = ((df1['Age_of_car'] - df1['Year']).dt.days/365)\n",
    "train['Age_of_car'] = df1['Age_of_car']\n",
    "\n",
    "df2 = test.copy() \n",
    "df2['Age_of_car'] = '2019'\n",
    "df2['Age_of_car'] = pd.to_datetime(df2['Age_of_car'],format='%Y')\n",
    "df2['Year'] = pd.to_datetime(df2['Year'],format='%Y')\n",
    "df2['Age_of_car'] = ((df2['Age_of_car'] - df2['Year']).dt.days/365)\n",
    "test['Age_of_car'] = df2['Age_of_car']"
   ]
  },
  {
   "cell_type": "code",
   "execution_count": 175,
   "metadata": {},
   "outputs": [],
   "source": [
    "market = {'Maruti' : 45.5,\n",
    "'Hyundai'  :    11.5,\n",
    "'Honda' :     4.5,\n",
    "'Toyota'    :  3.5,\n",
    "'Mercedes-Benz' :  2.4,\n",
    "'Volkswagen':   3.6,\n",
    "'Ford'    :   2.5,\n",
    "'Mahindra' : 5.5,\n",
    "'BMW'   :      1.6,\n",
    "'Audi'    :  2,\n",
    "'Tata'  :      5.5,\n",
    "'Skoda'       : 2,\n",
    "'Renault'  :   1.8,\n",
    "'Chevrolet' :   1.5,\n",
    "'Nissan':   1,\n",
    "'Land'    : 1,\n",
    "'Jaguar'      :1,\n",
    "'Fiat'  :    0.6,\n",
    "'Mitsubishi'  : 0.5,\n",
    "'Mini':      0.5,\n",
    "'Volvo'    :   0.5,\n",
    "'Porsche' :  0.2,\n",
    "'Jeep'  :    0.3,\n",
    "'Datsun' :  0.3,\n",
    "'Force'  :      0.1,\n",
    "'ISUZU'  :    0.1,\n",
    "'Smart'  :      0.1,\n",
    "'Lamborghini'  :  0.1,\n",
    "'Ambassador'  :   0.1,\n",
    "'Isuzu' :  0.1,\n",
    "'Bentley': 0.1\n",
    "}\n",
    "train['Market_Share'] = train['Brand'].map(market)\n",
    "train['Market_Share']=train['Market_Share'].replace('null',np.nan)\n",
    "train['Market_Share']=train['Market_Share'].fillna(train['Market_Share'].median())\n",
    "\n",
    "\n",
    "test['Market_Share'] = test['Brand'].map(market)\n",
    "test['Market_Share']=test['Market_Share'].replace('null',np.nan)\n",
    "test['Market_Share']=test['Market_Share'].fillna(test['Market_Share'].median())"
   ]
  },
  {
   "cell_type": "code",
   "execution_count": 176,
   "metadata": {},
   "outputs": [
    {
     "data": {
      "image/png": "[encoded data removed]",
      "text/plain": [
       "<Figure size 432x288 with 1 Axes>"
      ]
     },
     "metadata": {
      "needs_background": "light"
     },
     "output_type": "display_data"
    }
   ],
   "source": [
    "sns.boxplot( y=train[\"Power(bhp)\"] )\n",
    "plt.show()\n"
   ]
  },
  {
   "cell_type": "code",
   "execution_count": 177,
   "metadata": {},
   "outputs": [
    {
     "data": {
      "image/png": "[encoded data removed]",
      "text/plain": [
       "<Figure size 432x288 with 1 Axes>"
      ]
     },
     "metadata": {
      "needs_background": "light"
     },
     "output_type": "display_data"
    }
   ],
   "source": [
    "sns.boxplot( y=train[\"Engine(CC)\"] )\n",
    "plt.show()"
   ]
  },
  {
   "cell_type": "code",
   "execution_count": 178,
   "metadata": {},
   "outputs": [
    {
     "data": {
      "image/png": "[encoded data removed]",
      "text/plain": [
       "<Figure size 432x288 with 1 Axes>"
      ]
     },
     "metadata": {
      "needs_background": "light"
     },
     "output_type": "display_data"
    }
   ],
   "source": [
    "sns.boxplot( y=train[\"Mileage(kmpl)\"] )\n",
    "plt.show()"
   ]
  },
  {
   "cell_type": "code",
   "execution_count": null,
   "metadata": {},
   "outputs": [],
   "source": []
  },
  {
   "cell_type": "code",
   "execution_count": null,
   "metadata": {},
   "outputs": [],
   "source": []
  },
  {
   "cell_type": "code",
   "execution_count": 179,
   "metadata": {},
   "outputs": [
    {
     "data": {
      "image/png": "[encoded data removed]",
      "text/plain": [
       "<Figure size 432x288 with 1 Axes>"
      ]
     },
     "metadata": {
      "needs_background": "light"
     },
     "output_type": "display_data"
    }
   ],
   "source": [
    "sns.boxplot( y=train[\"Year\"] )\n",
    "plt.show()"
   ]
  },
  {
   "cell_type": "code",
   "execution_count": 180,
   "metadata": {},
   "outputs": [
    {
     "data": {
      "image/png": "[encoded data removed]",
      "text/plain": [
       "<Figure size 432x288 with 1 Axes>"
      ]
     },
     "metadata": {
      "needs_background": "light"
     },
     "output_type": "display_data"
    }
   ],
   "source": [
    "sns.boxplot( y=train[\"Kilometers_Driven\"] )\n",
    "plt.show()"
   ]
  },
  {
   "cell_type": "code",
   "execution_count": null,
   "metadata": {},
   "outputs": [],
   "source": []
  },
  {
   "cell_type": "code",
   "execution_count": null,
   "metadata": {},
   "outputs": [],
   "source": []
  },
  {
   "cell_type": "code",
   "execution_count": null,
   "metadata": {},
   "outputs": [],
   "source": []
  },
  {
   "cell_type": "code",
   "execution_count": 181,
   "metadata": {},
   "outputs": [
    {
     "data": {
      "image/png": "[encoded data removed]",
      "text/plain": [
       "<Figure size 432x288 with 1 Axes>"
      ]
     },
     "metadata": {
      "needs_background": "light"
     },
     "output_type": "display_data"
    }
   ],
   "source": [
    "sns.boxplot( y=train[\"Seats\"] )\n",
    "plt.show()"
   ]
  },
  {
   "cell_type": "code",
   "execution_count": 182,
   "metadata": {},
   "outputs": [
    {
     "data": {
      "text/plain": [
       "<matplotlib.axes._subplots.AxesSubplot at 0x1a2f9d85e08>"
      ]
     },
     "execution_count": 182,
     "metadata": {},
     "output_type": "execute_result"
    },
    {
     "data": {
      "image/png": "[encoded data removed]",
      "text/plain": [
       "<Figure size 432x288 with 1 Axes>"
      ]
     },
     "metadata": {
      "needs_background": "light"
     },
     "output_type": "display_data"
    },
    {
     "data": {
      "image/png": "[encoded data removed]",
      "text/plain": [
       "<Figure size 432x288 with 1 Axes>"
      ]
     },
     "metadata": {
      "needs_background": "light"
     },
     "output_type": "display_data"
    }
   ],
   "source": [
    "#Cheking distribution of dataset with target verible.\n",
    "\n",
    "#Normal distribution\n",
    "y = train['Price']\n",
    "plt.figure(1); plt.title('Normal')\n",
    "sns.distplot(y, kde=False, fit=st.norm)\n",
    "\n",
    "#Log transform distribution\n",
    "plt.figure(2); plt.title('Log Normal')\n",
    "sns.distplot(y, kde=False, fit=st.lognorm)"
   ]
  },
  {
   "cell_type": "code",
   "execution_count": 183,
   "metadata": {},
   "outputs": [
    {
     "data": {
      "text/plain": [
       "<matplotlib.axes._subplots.AxesSubplot at 0x1a287e25ac8>"
      ]
     },
     "execution_count": 183,
     "metadata": {},
     "output_type": "execute_result"
    },
    {
     "data": {
      "image/png": "[encoded data removed]",
      "text/plain": [
       "<Figure size 1080x720 with 2 Axes>"
      ]
     },
     "metadata": {
      "needs_background": "light"
     },
     "output_type": "display_data"
    }
   ],
   "source": [
    "#heat map\n",
    "#Cheking correlation by using Heat Map\n",
    "\n",
    "\n",
    "\n",
    "\n",
    "plt.figure(figsize=(15,10))\n",
    "sns.heatmap(train.corr(), vmax=.8, linewidths=0.01,square=True,annot=True,cmap='viridis',\n",
    "            linecolor=\"white\")\n",
    "\n",
    "\n"
   ]
  },
  {
   "cell_type": "markdown",
   "metadata": {},
   "source": [
    "• Each cell in this plot is the intersection of two variables. Its color and label together indicate the amount of correlation between the two variables.\n",
    "\n",
    "Observation :-\n",
    "\n",
    "• Engine and Power are highly correlated with each other and Price is highly correlated with Power and Engine.\n",
    "\n",
    "• Kilometers_Driven-Engine and kilometers_Driven-Price are very uncorrelated.\n",
    "\n",
    "• Seat and Age of car are slightly correlated."
   ]
  },
  {
   "cell_type": "code",
   "execution_count": null,
   "metadata": {},
   "outputs": [],
   "source": []
  },
  {
   "cell_type": "code",
   "execution_count": null,
   "metadata": {},
   "outputs": [],
   "source": []
  },
  {
   "cell_type": "code",
   "execution_count": 184,
   "metadata": {},
   "outputs": [
    {
     "data": {
      "image/png": "[encoded data removed]",
      "text/plain": [
       "<Figure size 360x360 with 1 Axes>"
      ]
     },
     "metadata": {
      "needs_background": "light"
     },
     "output_type": "display_data"
    }
   ],
   "source": [
    "#ENGINE WITH RESPECT TO PRICE\n",
    "\n",
    "\n",
    "sns.lmplot(y='Engine(CC)',x=\"Price\",data=train,fit_reg=False)\n",
    "plt.show()"
   ]
  },
  {
   "cell_type": "code",
   "execution_count": null,
   "metadata": {},
   "outputs": [],
   "source": []
  },
  {
   "cell_type": "code",
   "execution_count": null,
   "metadata": {},
   "outputs": [],
   "source": []
  },
  {
   "cell_type": "code",
   "execution_count": null,
   "metadata": {},
   "outputs": [],
   "source": []
  },
  {
   "cell_type": "code",
   "execution_count": 185,
   "metadata": {},
   "outputs": [
    {
     "data": {
      "image/png": "[encoded data removed]",
      "text/plain": [
       "<Figure size 720x432 with 1 Axes>"
      ]
     },
     "metadata": {
      "needs_background": "light"
     },
     "output_type": "display_data"
    }
   ],
   "source": [
    "#CAR PRICE WITH RESPECT TO YEARS\n",
    "\n",
    "\n",
    "plt.figure(figsize=(10,6))\n",
    "sns.boxplot(x=train['Year'], y=train['Price'])\n",
    "plt.show()"
   ]
  },
  {
   "cell_type": "code",
   "execution_count": 186,
   "metadata": {},
   "outputs": [
    {
     "data": {
      "image/png": "[encoded data removed]",
      "text/plain": [
       "<Figure size 576x432 with 1 Axes>"
      ]
     },
     "metadata": {
      "needs_background": "light"
     },
     "output_type": "display_data"
    }
   ],
   "source": [
    "#PRICE WITH RESPECT TO OWNER TYPE\n",
    "\n",
    "\n",
    "plt.figure(figsize=(8,6))\n",
    "sns.boxplot(x=train['Price'], y=train['Owner_Type'])\n",
    "plt.show()"
   ]
  },
  {
   "cell_type": "code",
   "execution_count": null,
   "metadata": {},
   "outputs": [],
   "source": []
  },
  {
   "cell_type": "code",
   "execution_count": null,
   "metadata": {
    "scrolled": true
   },
   "outputs": [],
   "source": []
  },
  {
   "cell_type": "code",
   "execution_count": 187,
   "metadata": {},
   "outputs": [
    {
     "data": {
      "image/png": "[encoded data removed]",
      "text/plain": [
       "<Figure size 576x432 with 1 Axes>"
      ]
     },
     "metadata": {
      "needs_background": "light"
     },
     "output_type": "display_data"
    }
   ],
   "source": [
    "#PRICE WITH RESPECT TO TRANSMISSION\n",
    "\n",
    "\n",
    "plt.figure(figsize=(8,6))\n",
    "sns.boxplot(x=train['Price'], y=train['Transmission'])\n",
    "plt.show()"
   ]
  },
  {
   "cell_type": "code",
   "execution_count": 188,
   "metadata": {},
   "outputs": [
    {
     "data": {
      "image/png": "[encoded data removed]",
      "text/plain": [
       "<Figure size 720x576 with 1 Axes>"
      ]
     },
     "metadata": {
      "needs_background": "light"
     },
     "output_type": "display_data"
    }
   ],
   "source": [
    "#TOP CAR BRANDS\n",
    "\n",
    "plt.figure(figsize=(10,8))\n",
    "ax=train['Brand'].value_counts().head(10).plot.bar()\n",
    "for p in ax.patches:\n",
    "    ax.annotate(format(p.get_height()), (p.get_x()+0.05, p.get_height()+5),fontsize=10)\n",
    "plt.show()"
   ]
  },
  {
   "cell_type": "code",
   "execution_count": 189,
   "metadata": {},
   "outputs": [
    {
     "data": {
      "image/png": "[encoded data removed]",
      "text/plain": [
       "<Figure size 720x576 with 1 Axes>"
      ]
     },
     "metadata": {
      "needs_background": "light"
     },
     "output_type": "display_data"
    }
   ],
   "source": [
    "plt.figure(figsize=(10,8))\n",
    "ax = train['Brand'].value_counts().head(20).plot.bar()\n",
    "for p in ax.patches:\n",
    "    ax.annotate(format(p.get_height()), (p.get_x()+0.05, p.get_height()+5),fontsize=10)\n",
    "plt.show()"
   ]
  },
  {
   "cell_type": "code",
   "execution_count": 190,
   "metadata": {},
   "outputs": [
    {
     "data": {
      "image/png": "[encoded data removed]",
      "text/plain": [
       "<Figure size 720x576 with 1 Axes>"
      ]
     },
     "metadata": {
      "needs_background": "light"
     },
     "output_type": "display_data"
    }
   ],
   "source": [
    "#TOP 10 CAR LOCATIONS\n",
    "\n",
    "plt.figure(figsize=(10,8))\n",
    "ax = train['Location'].value_counts().head(10).plot.bar()\n",
    "for p in ax.patches:\n",
    "    ax.annotate(format(p.get_height()), (p.get_x()+0.05, p.get_height()+5),fontsize=10)\n",
    "plt.show()"
   ]
  },
  {
   "cell_type": "code",
   "execution_count": 191,
   "metadata": {},
   "outputs": [
    {
     "data": {
      "image/png": "[encoded data removed]",
      "text/plain": [
       "<Figure size 576x432 with 1 Axes>"
      ]
     },
     "metadata": {
      "needs_background": "light"
     },
     "output_type": "display_data"
    }
   ],
   "source": [
    "#DISTRIBUTION OF CAR SEATS\n",
    "\n",
    "\n",
    "plt.figure(figsize=(8,6))\n",
    "sns.boxplot(x=train['Seats'], y=train['Price'])\n",
    "plt.show()"
   ]
  },
  {
   "cell_type": "code",
   "execution_count": 192,
   "metadata": {},
   "outputs": [
    {
     "data": {
      "image/png": "[encoded data removed]",
      "text/plain": [
       "<Figure size 576x432 with 1 Axes>"
      ]
     },
     "metadata": {
      "needs_background": "light"
     },
     "output_type": "display_data"
    }
   ],
   "source": [
    "#DISTRIBUTION OF CAR LOCATION WITH RESPECT TO CAR MILEAGE\n",
    "\n",
    "\n",
    "plt.figure(figsize=(8,6))\n",
    "sns.boxplot(x=train['Price'], y=train['Brand'])\n",
    "plt.show()"
   ]
  },
  {
   "cell_type": "code",
   "execution_count": 193,
   "metadata": {},
   "outputs": [
    {
     "data": {
      "image/png": "[encoded data removed]",
      "text/plain": [
       "<Figure size 576x432 with 1 Axes>"
      ]
     },
     "metadata": {
      "needs_background": "light"
     },
     "output_type": "display_data"
    }
   ],
   "source": [
    "#DISTRIBUTION OF CAR LOCATION WITH RESPECT TO CAR MILEAGE\n",
    "\n",
    "\n",
    "plt.figure(figsize=(8,6))\n",
    "sns.boxplot(x=train['Price'], y=train['Location'])\n",
    "plt.title('box plot of Location vs Price')\n",
    "plt.show()"
   ]
  },
  {
   "cell_type": "code",
   "execution_count": 194,
   "metadata": {},
   "outputs": [
    {
     "data": {
      "image/png": "[encoded data removed]",
      "text/plain": [
       "<Figure size 576x432 with 1 Axes>"
      ]
     },
     "metadata": {
      "needs_background": "light"
     },
     "output_type": "display_data"
    }
   ],
   "source": [
    "#DISTRIBUTION OF CAR LOCATION WITH RESPECT TO CAR MILEAGE\n",
    "\n",
    "\n",
    "plt.figure(figsize=(8,6))\n",
    "sns.boxplot(x=train['Mileage(kmpl)'], y=train['Location'])\n",
    "plt.show()"
   ]
  },
  {
   "cell_type": "code",
   "execution_count": 195,
   "metadata": {},
   "outputs": [
    {
     "data": {
      "image/png": "[encoded data removed]",
      "text/plain": [
       "<Figure size 576x432 with 1 Axes>"
      ]
     },
     "metadata": {
      "needs_background": "light"
     },
     "output_type": "display_data"
    }
   ],
   "source": [
    "#DISTRIBUTION OF FUEL TYPES\n",
    "\n",
    "\n",
    "plt.figure(figsize=(8,6))\n",
    "sns.boxplot(x=train['Price'], y=train['Fuel_Type'])\n",
    "plt.title('box plot of Fuel_Type vs Price')\n",
    "plt.show()"
   ]
  },
  {
   "cell_type": "code",
   "execution_count": 196,
   "metadata": {},
   "outputs": [
    {
     "data": {
      "text/plain": [
       "array([<matplotlib.axes._subplots.AxesSubplot object at 0x000001A2EEBD47C8>],\n",
       "      dtype=object)"
      ]
     },
     "execution_count": 196,
     "metadata": {},
     "output_type": "execute_result"
    },
    {
     "data": {
      "image/png": "[encoded data removed]",
      "text/plain": [
       "<Figure size 576x576 with 1 Axes>"
      ]
     },
     "metadata": {},
     "output_type": "display_data"
    }
   ],
   "source": [
    "#FUEL TYPE USES\n",
    "\n",
    "\n",
    "train['Fuel_Type'].value_counts().plot.pie(subplots=True, figsize=(8,8), autopct=' %.2f')"
   ]
  },
  {
   "cell_type": "code",
   "execution_count": 197,
   "metadata": {},
   "outputs": [
    {
     "data": {
      "text/plain": [
       "array([<matplotlib.axes._subplots.AxesSubplot object at 0x000001A2E82A89C8>],\n",
       "      dtype=object)"
      ]
     },
     "execution_count": 197,
     "metadata": {},
     "output_type": "execute_result"
    },
    {
     "data": {
      "image/png": "[encoded data removed]",
      "text/plain": [
       "<Figure size 576x576 with 1 Axes>"
      ]
     },
     "metadata": {},
     "output_type": "display_data"
    }
   ],
   "source": [
    "#LOCATION WISE USE OF CARS\n",
    "\n",
    "\n",
    "train['Location'].value_counts().plot.pie(subplots=True, figsize=(8, 8), autopct='%.2f')"
   ]
  },
  {
   "cell_type": "code",
   "execution_count": 198,
   "metadata": {},
   "outputs": [
    {
     "data": {
      "text/plain": [
       "Text(0.5, 1.0, 'box plot of Fuel_Type vs Year')"
      ]
     },
     "execution_count": 198,
     "metadata": {},
     "output_type": "execute_result"
    },
    {
     "data": {
      "image/png": "[encoded data removed]",
      "text/plain": [
       "<Figure size 1008x432 with 1 Axes>"
      ]
     },
     "metadata": {
      "needs_background": "light"
     },
     "output_type": "display_data"
    }
   ],
   "source": [
    "# box plot of Year vs Fuel_Type:\n",
    "\n",
    "\n",
    "plt.figure(figsize=(14,6))\n",
    "sns.boxplot(x='Fuel_Type', y='Year',data=train,palette='coolwarm')\n",
    "plt.title('box plot of Fuel_Type vs Year')"
   ]
  },
  {
   "cell_type": "code",
   "execution_count": 199,
   "metadata": {},
   "outputs": [
    {
     "data": {
      "text/plain": [
       "<matplotlib.axes._subplots.AxesSubplot at 0x1a2e2dfbf48>"
      ]
     },
     "execution_count": 199,
     "metadata": {},
     "output_type": "execute_result"
    },
    {
     "data": {
      "image/png": "[encoded data removed]",
      "text/plain": [
       "<Figure size 432x288 with 1 Axes>"
      ]
     },
     "metadata": {
      "needs_background": "light"
     },
     "output_type": "display_data"
    }
   ],
   "source": [
    "#TRANSMISSION COUNT\n",
    "\n",
    "\n",
    "sns.countplot(train['Transmission'])"
   ]
  },
  {
   "cell_type": "code",
   "execution_count": 200,
   "metadata": {},
   "outputs": [
    {
     "data": {
      "text/plain": [
       "<matplotlib.axes._subplots.AxesSubplot at 0x1a2e10ef308>"
      ]
     },
     "execution_count": 200,
     "metadata": {},
     "output_type": "execute_result"
    },
    {
     "data": {
      "image/png": "[encoded data removed]",
      "text/plain": [
       "<Figure size 1008x432 with 1 Axes>"
      ]
     },
     "metadata": {
      "needs_background": "light"
     },
     "output_type": "display_data"
    }
   ],
   "source": [
    "#LOCATION WISE COUNT\n",
    "\n",
    "plt.figure(figsize=(14,6))\n",
    "sns.countplot(train['Location'])"
   ]
  },
  {
   "cell_type": "code",
   "execution_count": 201,
   "metadata": {},
   "outputs": [
    {
     "data": {
      "text/plain": [
       "<seaborn.axisgrid.FacetGrid at 0x1a2f1dc7188>"
      ]
     },
     "execution_count": 201,
     "metadata": {},
     "output_type": "execute_result"
    },
    {
     "data": {
      "image/png": "[encoded data removed]",
      "text/plain": [
       "<Figure size 360x360 with 1 Axes>"
      ]
     },
     "metadata": {
      "needs_background": "light"
     },
     "output_type": "display_data"
    }
   ],
   "source": [
    "#FUEL TYPE COUNT\n",
    "\n",
    "sns.catplot(x='Fuel_Type',kind = \"count\",data=train)"
   ]
  },
  {
   "cell_type": "code",
   "execution_count": 216,
   "metadata": {},
   "outputs": [],
   "source": []
  },
  {
   "cell_type": "code",
   "execution_count": null,
   "metadata": {},
   "outputs": [],
   "source": []
  },
  {
   "cell_type": "code",
   "execution_count": null,
   "metadata": {},
   "outputs": [],
   "source": []
  },
  {
   "cell_type": "code",
   "execution_count": null,
   "metadata": {},
   "outputs": [],
   "source": []
  },
  {
   "cell_type": "code",
   "execution_count": null,
   "metadata": {},
   "outputs": [],
   "source": []
  },
  {
   "cell_type": "code",
   "execution_count": null,
   "metadata": {},
   "outputs": [],
   "source": []
  },
  {
   "cell_type": "code",
   "execution_count": null,
   "metadata": {},
   "outputs": [],
   "source": []
  },
  {
   "cell_type": "code",
   "execution_count": 202,
   "metadata": {},
   "outputs": [
    {
     "data": {
      "text/plain": [
       "<seaborn.axisgrid.FacetGrid at 0x1a2f1dab788>"
      ]
     },
     "execution_count": 202,
     "metadata": {},
     "output_type": "execute_result"
    },
    {
     "data": {
      "image/png": "[encoded data removed]",
      "text/plain": [
       "<Figure size 360x360 with 1 Axes>"
      ]
     },
     "metadata": {
      "needs_background": "light"
     },
     "output_type": "display_data"
    }
   ],
   "source": [
    "#SEATS COUNT\n",
    "\n",
    "sns.catplot(x='Seats',kind = \"count\",data=train)"
   ]
  },
  {
   "cell_type": "code",
   "execution_count": 203,
   "metadata": {},
   "outputs": [
    {
     "name": "stdout",
     "output_type": "stream",
     "text": [
      "                 Price\n",
      "Engine(CC)            \n",
      "624           1.888400\n",
      "793           3.450000\n",
      "796           2.187287\n",
      "799           3.301429\n",
      "814           3.047119\n",
      "...                ...\n",
      "4951         56.800000\n",
      "5000         75.330000\n",
      "5204        120.000000\n",
      "5461         49.833333\n",
      "5998         59.000000\n",
      "\n",
      "[139 rows x 1 columns]\n"
     ]
    }
   ],
   "source": [
    "import pandas as pd\n",
    "import matplotlib.pyplot as plt\n",
    "import numpy as np\n",
    "train= pd.read_excel(r\"C:\\Users\\aansh\\Desktop\\Data_Train(clean).xlsx\")\n",
    "subjects=['Price']\n",
    "trainset=train.groupby('Engine(CC)')[subjects].mean()\n",
    "print(trainset)"
   ]
  },
  {
   "cell_type": "code",
   "execution_count": 204,
   "metadata": {},
   "outputs": [
    {
     "name": "stdout",
     "output_type": "stream",
     "text": [
      "                                    Price\n",
      "Name                                     \n",
      "Ambassador Classic Nova Diesel   1.350000\n",
      "Audi A3 35 TDI Attraction       16.500000\n",
      "Audi A3 35 TDI Premium          19.250000\n",
      "Audi A3 35 TDI Premium Plus     18.900000\n",
      "Audi A3 35 TDI Technology       22.500000\n",
      "...                                   ...\n",
      "Volvo XC60 D4 Summum            18.250000\n",
      "Volvo XC60 D5                   19.433333\n",
      "Volvo XC60 D5 Inscription       17.180000\n",
      "Volvo XC90 2007-2015 D5 AT AWD  23.580000\n",
      "Volvo XC90 2007-2015 D5 AWD     23.650000\n",
      "\n",
      "[1811 rows x 1 columns]\n"
     ]
    }
   ],
   "source": [
    "import pandas as pd\n",
    "import matplotlib.pyplot as plt\n",
    "import numpy as np\n",
    "train= pd.read_excel(r\"C:\\Users\\aansh\\Desktop\\Data_Train(clean).xlsx\")\n",
    "subjects=['Price']\n",
    "trainset=train.groupby('Name')[subjects].mean()\n",
    "print(trainset)"
   ]
  },
  {
   "cell_type": "code",
   "execution_count": 205,
   "metadata": {},
   "outputs": [
    {
     "name": "stdout",
     "output_type": "stream",
     "text": [
      "                Price\n",
      "Location             \n",
      "Ahmedabad    8.516955\n",
      "Bangalore   13.638040\n",
      "Chennai      7.824463\n",
      "Coimbatore  15.140350\n",
      "Delhi        9.778991\n",
      "Hyderabad    9.910822\n",
      "Jaipur       5.932363\n",
      "Kochi       11.236744\n",
      "Kolkata      5.739885\n",
      "Mumbai       9.436606\n",
      "Pune         6.904545\n"
     ]
    }
   ],
   "source": [
    "import pandas as pd\n",
    "import matplotlib.pyplot as plt\n",
    "import numpy as np\n",
    "train= pd.read_excel(r\"C:\\Users\\aansh\\Desktop\\Data_Train(clean).xlsx\")\n",
    "subjects=['Price']\n",
    "trainset=train.groupby('Location')[subjects].mean()\n",
    "print(trainset)"
   ]
  },
  {
   "cell_type": "code",
   "execution_count": 206,
   "metadata": {},
   "outputs": [
    {
     "name": "stdout",
     "output_type": "stream",
     "text": [
      "          Price\n",
      "Year           \n",
      "1998   1.626667\n",
      "1999   0.835000\n",
      "2000   1.175000\n",
      "2001   0.975000\n",
      "2002   1.273636\n",
      "2003   1.697857\n",
      "2004   2.012000\n",
      "2005   2.290952\n",
      "2006   3.673485\n",
      "2007   3.434286\n",
      "2008   3.613086\n",
      "2009   5.276073\n",
      "2010   5.450601\n",
      "2011   6.814978\n",
      "2012   7.353310\n",
      "2013   8.751346\n",
      "2014   9.640919\n",
      "2015  11.249068\n",
      "2016  11.738874\n",
      "2017  13.694171\n",
      "2018  15.726141\n",
      "2019  19.464118\n"
     ]
    }
   ],
   "source": [
    "import pandas as pd\n",
    "import matplotlib.pyplot as plt\n",
    "import numpy as np\n",
    "train= pd.read_excel(r\"C:\\Users\\aansh\\Desktop\\Data_Train(clean).xlsx\")\n",
    "subjects=['Price']\n",
    "trainset=train.groupby('Year')[subjects].mean()\n",
    "print(trainset)"
   ]
  },
  {
   "cell_type": "code",
   "execution_count": 207,
   "metadata": {},
   "outputs": [
    {
     "name": "stdout",
     "output_type": "stream",
     "text": [
      "           Price\n",
      "Seats           \n",
      "2      61.337692\n",
      "4      20.752525\n",
      "5       8.575218\n",
      "6       9.867586\n",
      "7      14.865625\n",
      "8       7.498421\n",
      "9       4.450000\n",
      "10      4.475000\n"
     ]
    }
   ],
   "source": [
    "import pandas as pd\n",
    "import matplotlib.pyplot as plt\n",
    "import numpy as np\n",
    "train= pd.read_excel(r\"C:\\Users\\aansh\\Desktop\\Data_Train(clean).xlsx\")\n",
    "subjects=['Price']\n",
    "trainset=train.groupby('Seats')[subjects].mean()\n",
    "print(trainset)"
   ]
  },
  {
   "cell_type": "code",
   "execution_count": 208,
   "metadata": {},
   "outputs": [
    {
     "name": "stdout",
     "output_type": "stream",
     "text": [
      "               Price\n",
      "Fuel_Type           \n",
      "CNG         3.558909\n",
      "Diesel     12.941980\n",
      "LPG         2.487000\n",
      "Petrol      5.773416\n"
     ]
    }
   ],
   "source": [
    "import pandas as pd\n",
    "import matplotlib.pyplot as plt\n",
    "import numpy as np\n",
    "train= pd.read_excel(r\"C:\\Users\\aansh\\Desktop\\Data_Train(clean).xlsx\")\n",
    "subjects=['Price']\n",
    "trainset=train.groupby('Fuel_Type')[subjects].mean()\n",
    "print(trainset)"
   ]
  },
  {
   "cell_type": "code",
   "execution_count": 209,
   "metadata": {},
   "outputs": [
    {
     "name": "stdout",
     "output_type": "stream",
     "text": [
      "                       Price\n",
      "Kilometers_Driven           \n",
      "171                 3.600000\n",
      "600                 6.250000\n",
      "1000               10.187778\n",
      "1001                7.390000\n",
      "1011               13.500000\n",
      "...                      ...\n",
      "445000              4.450000\n",
      "480000              9.000000\n",
      "620000              2.700000\n",
      "720000              5.900000\n",
      "775000              7.500000\n",
      "\n",
      "[3037 rows x 1 columns]\n"
     ]
    }
   ],
   "source": [
    "import pandas as pd\n",
    "import matplotlib.pyplot as plt\n",
    "import numpy as np\n",
    "train= pd.read_excel(r\"C:\\Users\\aansh\\Desktop\\Data_Train(clean).xlsx\")\n",
    "subjects=['Price']\n",
    "trainset=train.groupby('Kilometers_Driven')[subjects].mean()\n",
    "print(trainset)"
   ]
  },
  {
   "cell_type": "code",
   "execution_count": 210,
   "metadata": {},
   "outputs": [
    {
     "name": "stdout",
     "output_type": "stream",
     "text": [
      "                  Price\n",
      "Transmission           \n",
      "Automatic     19.888413\n",
      "Manual         5.395448\n"
     ]
    }
   ],
   "source": [
    "import pandas as pd\n",
    "import matplotlib.pyplot as plt\n",
    "import numpy as np\n",
    "train= pd.read_excel(r\"C:\\Users\\aansh\\Desktop\\Data_Train(clean).xlsx\")\n",
    "subjects=['Price']\n",
    "trainset=train.groupby('Transmission')[subjects].mean()\n",
    "print(trainset)"
   ]
  },
  {
   "cell_type": "code",
   "execution_count": 211,
   "metadata": {},
   "outputs": [
    {
     "name": "stdout",
     "output_type": "stream",
     "text": [
      "                    Price\n",
      "Owner_Type               \n",
      "First           10.039729\n",
      "Fourth & Above   3.567143\n",
      "Second           7.780303\n",
      "Third            5.299505\n"
     ]
    }
   ],
   "source": [
    "import pandas as pd\n",
    "import matplotlib.pyplot as plt\n",
    "import numpy as np\n",
    "train= pd.read_excel(r\"C:\\Users\\aansh\\Desktop\\Data_Train(clean).xlsx\")\n",
    "subjects=['Price']\n",
    "trainset=train.groupby('Owner_Type')[subjects].mean()\n",
    "print(trainset)"
   ]
  },
  {
   "cell_type": "code",
   "execution_count": 212,
   "metadata": {},
   "outputs": [
    {
     "name": "stdout",
     "output_type": "stream",
     "text": [
      "                    Price\n",
      "Mileage(kmpl)            \n",
      "0.00            21.793571\n",
      "6.40           120.000000\n",
      "7.50            72.000000\n",
      "7.81            30.000000\n",
      "7.94            34.110000\n",
      "...                   ...\n",
      "30.46            2.150000\n",
      "31.79            4.190000\n",
      "32.26            3.550000\n",
      "33.44            3.075000\n",
      "33.54            3.202000\n",
      "\n",
      "[429 rows x 1 columns]\n"
     ]
    }
   ],
   "source": [
    "import pandas as pd\n",
    "import matplotlib.pyplot as plt\n",
    "import numpy as np\n",
    "train= pd.read_excel(r\"C:\\Users\\aansh\\Desktop\\Data_Train(clean).xlsx\")\n",
    "subjects=['Price']\n",
    "trainset=train.groupby('Mileage(kmpl)')[subjects].mean()\n",
    "print(trainset)"
   ]
  },
  {
   "cell_type": "code",
   "execution_count": 213,
   "metadata": {},
   "outputs": [
    {
     "name": "stdout",
     "output_type": "stream",
     "text": [
      "                 Price\n",
      "Power(bhp)            \n",
      "34.20         2.490000\n",
      "35.00         1.981765\n",
      "35.50         1.350000\n",
      "37.00         0.765833\n",
      "37.48         2.380833\n",
      "...                ...\n",
      "500.00       14.500000\n",
      "503.00       50.660000\n",
      "550.00       32.000000\n",
      "552.00       59.000000\n",
      "560.00      120.000000\n",
      "\n",
      "[368 rows x 1 columns]\n"
     ]
    }
   ],
   "source": [
    "import pandas as pd\n",
    "import matplotlib.pyplot as plt\n",
    "import numpy as np\n",
    "train= pd.read_excel(r\"C:\\Users\\aansh\\Desktop\\Data_Train(clean).xlsx\")\n",
    "subjects=['Price']\n",
    "trainset=train.groupby('Power(bhp)')[subjects].mean()\n",
    "print(trainset)"
   ]
  },
  {
   "cell_type": "code",
   "execution_count": null,
   "metadata": {},
   "outputs": [],
   "source": []
  },
  {
   "cell_type": "code",
   "execution_count": null,
   "metadata": {},
   "outputs": [],
   "source": []
  }
 ],
 "metadata": {
  "kernelspec": {
   "display_name": "Python 3",
   "language": "python",
   "name": "python3"
  },
  "language_info": {
   "codemirror_mode": {
    "name": "ipython",
    "version": 3
   },
   "file_extension": ".py",
   "mimetype": "text/x-python",
   "name": "python",
   "nbconvert_exporter": "python",
   "pygments_lexer": "ipython3",
   "version": "3.7.6"
  }
 },
 "nbformat": 4,
 "nbformat_minor": 4
}
